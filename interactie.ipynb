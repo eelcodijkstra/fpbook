{
 "cells": [
  {
   "cell_type": "markdown",
   "metadata": {},
   "source": [
    "# Interactie\n",
    "\n",
    "Interactie in Elm; Elm-architectuur.\n",
    "\n",
    "NB:\n",
    "\n",
    "* dit is specifiek voor Elm; niet direct gerelateerd aan FP?\n",
    "* maar, directe parallel met React, wat eigenlijk een functioneel model is?"
   ]
  },
  {
   "cell_type": "code",
   "execution_count": null,
   "metadata": {},
   "outputs": [],
   "source": []
  }
 ],
 "metadata": {
  "kernelspec": {
   "display_name": "Elm",
   "language": "elm",
   "name": "elm"
  },
  "language_info": {
   "codemirror_mode": "elm",
   "file_extension": ".elm",
   "mimetype": "text/x-elm",
   "name": "elm"
  }
 },
 "nbformat": 4,
 "nbformat_minor": 4
}
