{
 "cells": [
  {
   "cell_type": "markdown",
   "metadata": {
    "slideshow": {
     "slide_type": "slide"
    }
   },
   "source": [
    "# Lijsten (1)"
   ]
  },
  {
   "cell_type": "markdown",
   "metadata": {
    "slideshow": {
     "slide_type": "slide"
    }
   },
   "source": [
    "## Lijst : reeks waarden van eenzelfde type\n",
    "\n",
    "opsommen:\n",
    "\n",
    "```\n",
    "firstprimes = [3,5,7,11]\n",
    "cities = [\"Rotterdam\", \"Den Haag\", \"Utrecht\", \"Eindhoven\"]\n",
    "multiples = [[2,4,8], [3,9,27], [4,16,64]]\n",
    "emptylist = []\n",
    "singleton = [3]\n",
    "```\n",
    "\n",
    "plaats element op kop van lijst (cons):  `\"Amsterdam\" :: cities`\n",
    "\n",
    "`[3,5,7,11] == 3 :: 5 :: 7 :: 11 :: []`"
   ]
  },
  {
   "cell_type": "markdown",
   "metadata": {
    "slideshow": {
     "slide_type": "slide"
    }
   },
   "source": [
    "## Genereren van lijsten\n",
    "\n",
    "Enkele functies voor het genereren van lijsten:\n",
    "\n",
    "`range lo hi`: genereert de lijst `[lo, lo+1, ..., hi]`.\n",
    "\n",
    "`repeat n x` : genereert de lijst `[x, x, ..., x]` van lengte n.\n",
    "\n",
    "```elm\n",
    "  range 2 4 == [2,3,4]\n",
    "  range 4 2 == []\n",
    "\n",
    "  repeat 3 \"noot\" == [\"noot\", \"noot\", \"noot\"]\n",
    "```"
   ]
  },
  {
   "cell_type": "markdown",
   "metadata": {
    "slideshow": {
     "slide_type": "slide"
    }
   },
   "source": [
    "*  `++` : append (samenstellen)\n",
    "* `reverse` : omkeren van een lijst\n",
    "* `length` : lengte van een lijst\n",
    "* `member` : test of een element in de lijst voorkomt\n",
    "\n",
    "```elm\n",
    "morecities = cities ++ [\"Groningen\", \"Leeuwarden\", \"Assen\"]\n",
    "moreprimes = firstprimes ++ [13,17,19,23,29]\n",
    "\n",
    "  reverse [3,5,7,11] == [11,7,5,3]\n",
    "  length [3,5,7,11] == 4\n",
    "  member 4 [3,5,7,11] == False\n",
    "```"
   ]
  },
  {
   "cell_type": "code",
   "execution_count": null,
   "metadata": {
    "slideshow": {
     "slide_type": "slide"
    }
   },
   "outputs": [],
   "source": [
    "import Html exposing (div, text, Html)\n",
    "import List exposing (range, repeat, member, length, reverse)\n",
    "import Debug exposing (toString)\n",
    "\n",
    "printList lst = div [] [text (Debug.toString lst)]\n",
    "  \n",
    "firstprimes = [2,3,5,7,11]  \n",
    "\n",
    "main =\n",
    "  div []\n",
    "  [ printList ( [1,3,5] ++ [7,9] )\n",
    "  , printList ( 1 :: 3 :: 5 :: 7 ::[] )\n",
    "  , printList ( reverse (range 3 7) ) \n",
    "  , printList ( repeat 4 [\"hi\", \"world\"])\n",
    "  , text (Debug.toString (member 5 firstprimes))\n",
    "  ] \n",
    "-- compile-code"
   ]
  },
  {
   "cell_type": "markdown",
   "metadata": {
    "slideshow": {
     "slide_type": "slide"
    }
   },
   "source": [
    "## map, foldr/foldl, filter\n",
    "\n",
    "* `map f lst` - voert functie f uit op alle elementen in lst \n",
    "* `map sqr [3,5,7] == [sqr 3, sqr 5, sqr 7]`\n",
    "* `map double [3,5] == [double 3, double 5] == [6,10]`"
   ]
  },
  {
   "cell_type": "markdown",
   "metadata": {
    "slideshow": {
     "slide_type": "slide"
    }
   },
   "source": [
    "`foldr f e lst` - voert functie f uit *tussen* alle elementen in `e::lst`.\n",
    "\n",
    "```elm\n",
    "  foldr (+) 0 [3,5,7] == 3 + (5 + (7 + 0)) == 15\n",
    "  foldr (*) 1 [3,5,7] == 3 * (5 * (7 * 1)) == 105\n",
    "```\n",
    "\n",
    "* `(+) 3 4 == 3 + 4` - \"+\" is een functie\n",
    "* `e` is *eenheidselement*:  0 voor +, 1 voor *\n",
    "* `foldr` *reduceert* een lijst naar een enkele waarde.\n",
    "* `foldr` reduceert \"van rechts naar links\" (zie de haakjes), \n",
    "* `foldl` reduceert \"van links naar rechts\"."
   ]
  },
  {
   "cell_type": "markdown",
   "metadata": {
    "slideshow": {
     "slide_type": "slide"
    }
   },
   "source": [
    "`filter f lst` - alleen die elementen uit `lst` waarvoor `f` `True` oplevert.\n",
    "\n",
    "```elm\n",
    "  filter isEven [1,2,3,4,5] == [2,4]\n",
    "  filter isOdd [1,2,3,4,5] == [1,3,5]\n",
    "```"
   ]
  },
  {
   "cell_type": "code",
   "execution_count": null,
   "metadata": {
    "slideshow": {
     "slide_type": "slide"
    }
   },
   "outputs": [],
   "source": [
    "import Html exposing (div, text, Html)\n",
    "import List exposing (range, repeat, member, length, reverse, map, foldr, foldl, filter)\n",
    "import Debug exposing (toString)\n",
    "\n",
    "printList : List a -> Html msg\n",
    "printList lst =\n",
    "  div [] [text (Debug.toString lst)]\n",
    "  \n",
    "printBool : Bool -> Html msg\n",
    "printBool b =\n",
    "  div [] [text (Debug.toString b)]\n",
    "  \n",
    "printInt : Int -> Html msg\n",
    "printInt x =\n",
    "  div [] [text (Debug.toString x)]  \n",
    "  "
   ]
  },
  {
   "cell_type": "code",
   "execution_count": null,
   "metadata": {
    "slideshow": {
     "slide_type": "subslide"
    }
   },
   "outputs": [],
   "source": [
    "double x = x + x\n",
    "isEven x = modBy 2 x == 0 -- even: rest na deling door 2 is 0\n",
    "firstprimes = [2,3,5,7,11]\n",
    "\n",
    "main =\n",
    "  div [] \n",
    "  [ printList ( map double firstprimes )\n",
    "  , printList ( map isEven (range 1 10) )\n",
    "  , printList ( filter isEven (range 1 10) )\n",
    "  , printInt  ( foldr (+) 0 (repeat 10 3) )\n",
    "  , printInt  ( foldr (*) 1 (range 1 10) )\n",
    "  ]\n",
    "-- compile-code"
   ]
  },
  {
   "cell_type": "markdown",
   "metadata": {
    "slideshow": {
     "slide_type": "slide"
    }
   },
   "source": [
    "`map`, `foldr` en `filter`: voorbeelden van *functies als parameter*.\n",
    "\n",
    "```elm\n",
    "map : (a -> b) -> List a -> List b\n",
    "map      f         lst    = ...\n",
    "\n",
    "foldr : (a -> b -> b) -> b -> List a -> List b\n",
    "foldr       f            e     lst    = ...\n",
    "\n",
    "filter : (a -> Bool) -> List a -> List a\n",
    "filter       f           lst    = ...\n",
    "```\n",
    "\n"
   ]
  },
  {
   "cell_type": "markdown",
   "metadata": {
    "slideshow": {
     "slide_type": "slide"
    }
   },
   "source": [
    "`map`, `foldr` en `filter`: veel-voorkomende rekenpatronen,\n",
    "geparametriseerd met de eigenlijke berekening (functie).\n",
    "\n",
    "`map`, `foldr` en `filter` zijn normale Elm-functies:\n",
    "deze kun je ook zelf definiëren."
   ]
  },
  {
   "cell_type": "code",
   "execution_count": null,
   "metadata": {
    "slideshow": {
     "slide_type": "slide"
    }
   },
   "outputs": [],
   "source": [
    "import Html exposing (div, text, Html)\n",
    "import List exposing (range, repeat, member, length, reverse, map, foldr, foldl, filter)\n",
    "import Debug exposing (toString)\n",
    "\n",
    "printList : List a -> Html msg\n",
    "printList lst =\n",
    "  div [] [text (Debug.toString lst)]\n",
    "  \n",
    "printBool : Bool -> Html msg\n",
    "printBool b =\n",
    "  div [] [text (Debug.toString b)]\n",
    "  \n",
    "printInt : Int -> Html msg\n",
    "printInt x =\n",
    "  div [] [text (Debug.toString x)]  \n",
    "  \n",
    "\n",
    "double x = x + x\n",
    "isEven x = modBy 2 x == 0 -- even: rest na deling door 2 is 0\n",
    "firstprimes = [2,3,5,7,11]\n",
    "\n",
    "main =\n",
    "  div [] \n",
    "  [ printList ( map double firstprimes )\n",
    "  , printList ( map isEven (range 1 10) )\n",
    "  , printList ( filter isEven (range 1 10) )\n",
    "  , printInt  ( foldr (+) 0 (repeat 10 3) )\n",
    "  , printInt  ( foldr (*) 1 (range 1 10) )\n",
    "  ]\n",
    "-- compile-code"
   ]
  }
 ],
 "metadata": {
  "celltoolbar": "Diavoorstelling",
  "kernelspec": {
   "display_name": "Elm",
   "language": "elm",
   "name": "elm"
  },
  "language_info": {
   "codemirror_mode": "elm",
   "file_extension": ".elm",
   "mimetype": "text/x-elm",
   "name": "elm"
  },
  "toc": {
   "base_numbering": 1,
   "nav_menu": {},
   "number_sections": false,
   "sideBar": true,
   "skip_h1_title": true,
   "title_cell": "Table of Contents",
   "title_sidebar": "Contents",
   "toc_cell": false,
   "toc_position": {},
   "toc_section_display": true,
   "toc_window_display": false
  }
 },
 "nbformat": 4,
 "nbformat_minor": 4
}
