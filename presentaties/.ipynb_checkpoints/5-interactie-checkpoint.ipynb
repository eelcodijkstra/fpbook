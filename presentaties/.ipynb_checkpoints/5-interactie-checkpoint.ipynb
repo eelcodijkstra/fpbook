{
 "cells": [
  {
   "cell_type": "markdown",
   "metadata": {
    "slideshow": {
     "slide_type": "slide"
    }
   },
   "source": [
    "## Interactie in Elm"
   ]
  },
  {
   "cell_type": "markdown",
   "metadata": {
    "slideshow": {
     "slide_type": "slide"
    }
   },
   "source": [
    "Een functioneel programma heeft geen \"toestand\", hoe kun je dan interactie beschrijven?\n",
    "\n",
    "-> splitsen in *functionele onderdelen* en de rest: toestand (memory) en i/o\n"
   ]
  },
  {
   "cell_type": "markdown",
   "metadata": {
    "slideshow": {
     "slide_type": "slide"
    }
   },
   "source": [
    "Vgl. eindige automaat (FSM): overgang, gegeven input en toestand, bepaalt volgende toestand en output.\n",
    "\n",
    "![Eindige automaat](LED-automaat-2.png)"
   ]
  },
  {
   "cell_type": "markdown",
   "metadata": {
    "slideshow": {
     "slide_type": "slide"
    }
   },
   "source": [
    "FSM kun je beschrijven met:\n",
    "\n",
    "![FSM-model](FSM-model.png)\n",
    "\n",
    "* input \"computer\" (symbolen, events); update/next state **functie**; state (memory); view/output **functie**\n",
    "\n",
    "\n"
   ]
  },
  {
   "cell_type": "markdown",
   "metadata": {
    "slideshow": {
     "slide_type": "slide"
    }
   },
   "source": [
    "```elm\n",
    "import Playground exposing (..)\n",
    "\n",
    "main = game view update (0,0)\n",
    "\n",
    "view computer (x,y) =\n",
    "  [ square blue 40 |> move x y ]\n",
    "\n",
    "update computer (x,y) =\n",
    "  ( x + toX computer.keyboard\n",
    "  , y + toY computer.keyboard\n",
    "  )\n",
    "```  "
   ]
  },
  {
   "cell_type": "markdown",
   "metadata": {
    "slideshow": {
     "slide_type": "slide"
    }
   },
   "source": [
    "Zie: [Try-Elm](https://elm-lang.org/examples/keyboard) enz.\n",
    "\n",
    "Met Playground kun je eenvoudige browser-games maken."
   ]
  }
 ],
 "metadata": {
  "celltoolbar": "Diavoorstelling",
  "kernelspec": {
   "display_name": "Elm",
   "language": "elm",
   "name": "elm"
  },
  "language_info": {
   "codemirror_mode": "elm",
   "file_extension": ".elm",
   "mimetype": "text/x-elm",
   "name": "elm"
  },
  "toc": {
   "base_numbering": 1,
   "nav_menu": {},
   "number_sections": false,
   "sideBar": true,
   "skip_h1_title": true,
   "title_cell": "Table of Contents",
   "title_sidebar": "Contents",
   "toc_cell": false,
   "toc_position": {},
   "toc_section_display": true,
   "toc_window_display": false
  }
 },
 "nbformat": 4,
 "nbformat_minor": 4
}
