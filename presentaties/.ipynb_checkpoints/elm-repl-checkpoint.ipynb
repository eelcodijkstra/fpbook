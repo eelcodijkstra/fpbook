{
 "cells": [
  {
   "cell_type": "code",
   "execution_count": 2,
   "metadata": {},
   "outputs": [
    {
     "name": "stdout",
     "output_type": "stream",
     "text": [
      "\u001b[90m----\u001b[0m \u001b[36mElm 0.19.1\u001b[0m \u001b[90m----------------------------------------------------------------\u001b[0m\n",
      "\u001b[90mSay :help for help and :exit to exit! More at <https://elm-lang.org/0.19.1/repl>\u001b[0m\n",
      "\u001b[90m--------------------------------------------------------------------------------\u001b[0m\n",
      "> > > > [\u001b[95m1\u001b[0m,\u001b[95m2\u001b[0m,\u001b[95m3\u001b[0m]\u001b[90m : List number\u001b[0m\n",
      "> "
     ]
    }
   ],
   "source": [
    "%%bash\n",
    "elm repl\n",
    "\n",
    "import List exposing (..)\n",
    "\n",
    "foldr (::) [] [1,2,3]"
   ]
  },
  {
   "cell_type": "code",
   "execution_count": 3,
   "metadata": {},
   "outputs": [],
   "source": [
    "!touch src/just-for-elm"
   ]
  },
  {
   "cell_type": "code",
   "execution_count": 4,
   "metadata": {},
   "outputs": [
    {
     "name": "stdout",
     "output_type": "stream",
     "text": [
      "just-for-elm\r\n"
     ]
    }
   ],
   "source": [
    "!ls src"
   ]
  },
  {
   "cell_type": "code",
   "execution_count": 11,
   "metadata": {},
   "outputs": [
    {
     "name": "stdout",
     "output_type": "stream",
     "text": [
      "\u001b[90m----\u001b[0m \u001b[36mElm 0.19.1\u001b[0m \u001b[90m----------------------------------------------------------------\u001b[0m\n",
      "\u001b[90mSay :help for help and :exit to exit! More at <https://elm-lang.org/0.19.1/repl>\u001b[0m\n",
      "\u001b[90m--------------------------------------------------------------------------------\u001b[0m\n",
      "> > > > > \u001b[93m\"1 2 3 \"\u001b[0m\u001b[90m : String\u001b[0m\n",
      "> "
     ]
    }
   ],
   "source": [
    "%%bash\n",
    "elm repl\n",
    "\n",
    "import String exposing (..)\n",
    "import List exposing (..)\n",
    "\n",
    "List.foldr (\\x lst -> (fromInt x) ++ \" \" ++ lst ) \"\" [1,2,3]"
   ]
  },
  {
   "cell_type": "code",
   "execution_count": null,
   "metadata": {},
   "outputs": [],
   "source": []
  }
 ],
 "metadata": {
  "kernelspec": {
   "display_name": "Python 3",
   "language": "python",
   "name": "python3"
  },
  "language_info": {
   "codemirror_mode": {
    "name": "ipython",
    "version": 3
   },
   "file_extension": ".py",
   "mimetype": "text/x-python",
   "name": "python",
   "nbconvert_exporter": "python",
   "pygments_lexer": "ipython3",
   "version": "3.7.9"
  },
  "toc": {
   "base_numbering": 1,
   "nav_menu": {},
   "number_sections": true,
   "sideBar": true,
   "skip_h1_title": false,
   "title_cell": "Table of Contents",
   "title_sidebar": "Contents",
   "toc_cell": false,
   "toc_position": {},
   "toc_section_display": true,
   "toc_window_display": false
  }
 },
 "nbformat": 4,
 "nbformat_minor": 4
}
