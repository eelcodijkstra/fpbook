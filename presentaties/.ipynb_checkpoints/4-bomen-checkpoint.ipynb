{
 "cells": [
  {
   "cell_type": "markdown",
   "metadata": {
    "slideshow": {
     "slide_type": "slide"
    }
   },
   "source": [
    "# Bomen: een functionele aanpak"
   ]
  },
  {
   "cell_type": "markdown",
   "metadata": {
    "slideshow": {
     "slide_type": "slide"
    }
   },
   "source": [
    "Elm gebruikt *functies* voor Html- en Svg-bomen.\n",
    "\n",
    "Hiermee:\n",
    "\n",
    "* kun je gemakkelijk *eigen componenten* maken (\"huis\", \"boom\")\n",
    "* kun je *berekende data* maken (\"straat\", \"bos\")\n",
    "* kun je (via Elm-architectuur) *interactie* introduceren"
   ]
  },
  {
   "cell_type": "code",
   "execution_count": null,
   "metadata": {
    "slideshow": {
     "slide_type": "slide"
    }
   },
   "outputs": [],
   "source": [
    "import Svg exposing (svg, circle, rect)\n",
    "import Svg.Attributes exposing (..)\n",
    "\n",
    "main =\n",
    "  svg\n",
    "    [ width \"200\", height \"200\", viewBox \"0 0 200 200\" ]\n",
    "    [ circle [ cx \"50\", cy \"50\", r \"50\", fill \"green\" ] []\n",
    "    , rect [x \"40\", y \"90\", width \"20\", height \"80\", fill \"burlywood\" ] []\n",
    "    ]\n",
    "\n",
    "-- compile-code"
   ]
  },
  {
   "cell_type": "markdown",
   "metadata": {
    "slideshow": {
     "slide_type": "slide"
    }
   },
   "source": [
    "## Elm gebruikt functies voor Svg-componenten\n",
    "\n",
    "```elm\n",
    " circle [ cx \"50\", cy \"50\", r \"50\", fill \"green\" ] []\n",
    " rect [ x \"40\", y \"90\", width \"20\", height \"80\"\n",
    "      , fill \"burlywood\" \n",
    "      ] []\n",
    "```\n",
    "\n",
    "Elke Svg-component is een functie met parameters (cf. Html):\n",
    "\n",
    "* lijst van attributen\n",
    "* lijst van Svg-knopen (`Svg msg`)\n",
    "\n",
    "Ook voor de attributen zijn er functies!"
   ]
  },
  {
   "cell_type": "markdown",
   "metadata": {
    "slideshow": {
     "slide_type": "slide"
    }
   },
   "source": [
    "## Elm Svg Playground\n",
    "\n",
    "* als demonstratie van de functionele aanpak\n",
    "* eerst eigen eenvoudige versie\n",
    "* zelf aan de slag met Elm Playground"
   ]
  },
  {
   "cell_type": "code",
   "execution_count": null,
   "metadata": {
    "slideshow": {
     "slide_type": "slide"
    }
   },
   "outputs": [],
   "source": [
    "import Html\n",
    "import Svg\n",
    "import Svg.Attributes exposing (..)\n",
    "import String exposing (fromInt, fromFloat)\n",
    "import List exposing (foldr)\n",
    "\n",
    "type alias Color = String\n",
    "type alias Shape msg = Svg.Svg msg"
   ]
  },
  {
   "cell_type": "code",
   "execution_count": null,
   "metadata": {
    "slideshow": {
     "slide_type": "slide"
    }
   },
   "outputs": [],
   "source": [
    "rectangle : Color -> Int -> Int -> Shape msg\n",
    "rectangle color w h =\n",
    "  Svg.rect \n",
    "    [ x (fromInt -(w // 2)), y (fromInt -(h // 2)), width (fromInt w), height (fromInt h)\n",
    "    , fill color \n",
    "    ] []\n",
    "    \n",
    "circle : Color -> Int -> Shape msg   \n",
    "circle color rad =\n",
    "  Svg.circle\n",
    "    [ cx \"0\", cy \"0\", r (fromInt rad), fill color ]\n",
    "    []\n",
    "\n",
    "line : Color -> Int -> Int -> Int -> Int -> Shape msg\n",
    "line color xa ya xb yb =\n",
    "  Svg.line\n",
    "    [ x1 (fromInt xa), y1 (fromInt ya), x2 (fromInt xb), y2 (fromInt yb), stroke color ]\n",
    "    []\n",
    "\n",
    "polygon : Color -> List Int -> Shape msg\n",
    "polygon color pts =\n",
    "  Svg.polygon\n",
    "    [ points (List.foldr (\\x lst -> fromInt x ++ \" \" ++ lst) \"\" pts)\n",
    "    , fill color]\n",
    "    []\n",
    "\n",
    "translate : Int -> Int -> Shape msg -> Shape msg\n",
    "translate dx dy fig = \n",
    "  Svg.g\n",
    "    [ transform (\"translate(\" ++ (fromInt dx) ++ \",\" ++ (fromInt dy) ++ \")\")]\n",
    "    [ fig ]\n",
    "    \n",
    "moveDown dy = translate 0 dy\n",
    "moveUp dy = translate 0 (-dy)\n",
    "moveRight dx = translate dx 0\n",
    "moveLeft dx = translate (-dx) 0\n",
    "\n",
    "scale : Float -> Shape msg -> Shape msg\n",
    "scale factor fig =\n",
    "  Svg.g\n",
    "    [ transform (\"scale(\" ++ fromFloat(factor) ++ \")\")]\n",
    "    [ fig ]\n",
    "\n",
    "group : List (Shape msg) -> Shape msg\n",
    "group figs =\n",
    "  Svg.g [] figs\n",
    "\n",
    "picture : List (Shape msg) -> Html.Html msg\n",
    "picture figs = \n",
    "  Svg.svg\n",
    "    [ width \"500\", height \"500\", viewBox \"0 0 500 500\"]\n",
    "    [ Svg.g [transform \"translate(250,250)\"] figs ]\n",
    "\n",
    "brown = \"burlywood\"\n",
    "green = \"forestgreen\"\n",
    "red = \"red\"\n",
    "black = \"black\""
   ]
  },
  {
   "cell_type": "code",
   "execution_count": null,
   "metadata": {
    "slideshow": {
     "slide_type": "slide"
    }
   },
   "outputs": [],
   "source": [
    "tree =    -- als voorbeeld van een eigen component\n",
    "  group \n",
    "    [ rectangle brown 40 200 |> moveDown 80\n",
    "    , circle green 100 |> moveUp 100\n",
    "    ]\n",
    "\n",
    "main =\n",
    "  picture\n",
    "    [ line \"blue\" 0 0 400 0 |> moveLeft 200 |> moveDown 90\n",
    "    , tree\n",
    "    , tree |> moveRight 150 |> scale 0.5\n",
    "    , polygon red [0, 0, 100, 0, 50, -50] |> translate -150 90\n",
    "    ]"
   ]
  },
  {
   "cell_type": "code",
   "execution_count": null,
   "metadata": {
    "slideshow": {
     "slide_type": "slide"
    }
   },
   "outputs": [],
   "source": [
    "-- compile-code"
   ]
  },
  {
   "cell_type": "markdown",
   "metadata": {
    "slideshow": {
     "slide_type": "slide"
    }
   },
   "source": [
    "## Samenstellingen met functies (1)\n",
    "\n",
    "```elm\n",
    "tree |> moveRight 150 |> scale 0.5\n",
    "```\n",
    "\n",
    "equivalent aan:\n",
    "\n",
    "```elm\n",
    "scale 0.5 (moveRight 150 tree)\n",
    "```\n",
    "\n",
    "* `|>` \"data flow\" v.l.n.r.; minder haakjes\n",
    "* alternatief: `<|` \"data flow v.r.n.l."
   ]
  },
  {
   "cell_type": "markdown",
   "metadata": {
    "slideshow": {
     "slide_type": "slide"
    }
   },
   "source": [
    "## Samenstellingen met functies (2)\n",
    "\n",
    "Functie-compositie:\n",
    "\n",
    "```elm\n",
    "(g >> f) x = f (g (x)) = (f << g) x\n",
    "```\n",
    "\n",
    "```elm\n",
    "moveSmall = moveRight 150 >> scale 0.5\n",
    "```\n",
    "\n",
    "* `>>` hoort bij `|>`, `<<` bij `<|`"
   ]
  },
  {
   "cell_type": "code",
   "execution_count": null,
   "metadata": {
    "slideshow": {
     "slide_type": "slide"
    }
   },
   "outputs": [],
   "source": [
    "import Html\n",
    "import Svg\n",
    "import Svg.Attributes exposing (..)\n",
    "import String exposing (fromInt, fromFloat)\n",
    "import List exposing (foldr)\n",
    "\n",
    "type alias Color = String\n",
    "type alias Shape msg = Svg.Svg msg"
   ]
  },
  {
   "cell_type": "code",
   "execution_count": null,
   "metadata": {
    "slideshow": {
     "slide_type": "subslide"
    }
   },
   "outputs": [],
   "source": [
    "rectangle : Color -> Int -> Int -> Shape msg\n",
    "rectangle color w h =\n",
    "  Svg.rect \n",
    "    [ x (fromInt -(w // 2)), y (fromInt -(h // 2)), width (fromInt w), height (fromInt h)\n",
    "    , fill color \n",
    "    ] []\n",
    "    \n",
    "circle : Color -> Int -> Shape msg   \n",
    "circle color rad =\n",
    "  Svg.circle\n",
    "    [ cx \"0\", cy \"0\", r (fromInt rad), fill color ]\n",
    "    []\n",
    "\n",
    "line : Color -> Int -> Int -> Int -> Int -> Shape msg\n",
    "line color xa ya xb yb =\n",
    "  Svg.line\n",
    "    [ x1 (fromInt xa), y1 (fromInt ya), x2 (fromInt xb), y2 (fromInt yb), stroke color ]\n",
    "    []\n",
    "\n",
    "polygon : Color -> List Int -> Shape msg\n",
    "polygon color pts =\n",
    "  Svg.polygon\n",
    "    [ points (List.foldr (\\x lst -> fromInt x ++ \" \" ++ lst) \"\" pts)\n",
    "    , fill color]\n",
    "    []\n",
    "\n",
    "translate : Int -> Int -> Shape msg -> Shape msg\n",
    "translate dx dy fig = \n",
    "  Svg.g\n",
    "    [ transform (\"translate(\" ++ (fromInt dx) ++ \",\" ++ (fromInt dy) ++ \")\")]\n",
    "    [ fig ]\n",
    "    \n",
    "moveDown dy = translate 0 dy\n",
    "moveUp dy = translate 0 (-dy)\n",
    "moveRight dx = translate dx 0\n",
    "moveLeft dx = translate (-dx) 0\n",
    "\n",
    "scale : Float -> Shape msg -> Shape msg\n",
    "scale factor fig =\n",
    "  Svg.g\n",
    "    [ transform (\"scale(\" ++ fromFloat(factor) ++ \")\")]\n",
    "    [ fig ]\n",
    "\n",
    "group : List (Shape msg) -> Shape msg\n",
    "group figs =\n",
    "  Svg.g [] figs\n",
    "\n",
    "picture : List (Shape msg) -> Html.Html msg\n",
    "picture figs = \n",
    "  Svg.svg\n",
    "    [ width \"500\", height \"500\", viewBox \"0 0 500 500\"]\n",
    "    [ Svg.g [transform \"translate(250,250)\"] figs ]\n",
    "\n",
    "brown = \"burlywood\"\n",
    "green = \"forestgreen\"\n",
    "red = \"red\"\n",
    "black = \"black\""
   ]
  },
  {
   "cell_type": "code",
   "execution_count": null,
   "metadata": {
    "slideshow": {
     "slide_type": "subslide"
    }
   },
   "outputs": [],
   "source": [
    "tree : Shape msg\n",
    "tree = \n",
    "  group \n",
    "    [ rectangle brown 40 200 |> moveDown 80\n",
    "    , circle green 100 |> moveUp 100\n",
    "    ]\n",
    "\n",
    "forest : Int -> List (Shape msg)\n",
    "forest n = \n",
    "  List.repeat n tree |> \n",
    "    List.indexedMap (\\i t -> t |> scale (0.7 ^ toFloat i) |> moveRight (100 * i) ) "
   ]
  },
  {
   "cell_type": "code",
   "execution_count": null,
   "metadata": {
    "slideshow": {
     "slide_type": "subslide"
    }
   },
   "outputs": [],
   "source": [
    "main =\n",
    "  picture\n",
    "    [ line \"blue\" 0 0 400 0 |> moveLeft 200 |> moveDown 90 \n",
    "    , polygon red [0, 0, 100, 0, 50, -50] |> translate -150 90\n",
    "    , forest 3 |> group |> moveDown 50 |> moveLeft 100\n",
    "    ]\n",
    "\n",
    "-- compile-code"
   ]
  },
  {
   "cell_type": "markdown",
   "metadata": {
    "slideshow": {
     "slide_type": "slide"
    }
   },
   "source": [
    "**Opdrachten**\n",
    "\n",
    "* maak een functie \"house\" voor het tekenen van een huis\n",
    "* teken twee huizen naast elkaar\n",
    "* maak een functie voor het tekenen van een straat (met als parameter het aantal huizen)\n",
    "* \"forest\" is nu een rij bomen; maak de symmetrische versie hiervan, en combineer deze tot een \"lane\"."
   ]
  },
  {
   "cell_type": "code",
   "execution_count": null,
   "metadata": {
    "slideshow": {
     "slide_type": "slide"
    }
   },
   "outputs": [],
   "source": [
    "import Html\n",
    "import Svg\n",
    "import Svg.Attributes exposing (..)\n",
    "import String exposing (fromInt, fromFloat)\n",
    "import List exposing (foldr)\n",
    "\n",
    "type alias Color = String\n",
    "type alias Shape msg = Svg.Svg msg\n",
    "\n",
    "rectangle : Color -> Int -> Int -> Shape msg\n",
    "rectangle color w h =\n",
    "  Svg.rect \n",
    "    [ x (fromInt -(w // 2)), y (fromInt -(h // 2)), width (fromInt w), height (fromInt h)\n",
    "    , fill color \n",
    "    ] []\n",
    "    \n",
    "circle : Color -> Int -> Shape msg   \n",
    "circle color rad =\n",
    "  Svg.circle\n",
    "    [ cx \"0\", cy \"0\", r (fromInt rad), fill color ]\n",
    "    []\n",
    "\n",
    "line : Color -> Int -> Int -> Int -> Int -> Shape msg\n",
    "line color xa ya xb yb =\n",
    "  Svg.line\n",
    "    [ x1 (fromInt xa), y1 (fromInt ya), x2 (fromInt xb), y2 (fromInt yb), stroke color ]\n",
    "    []\n",
    "\n",
    "polygon : Color -> List Int -> Shape msg\n",
    "polygon color pts =\n",
    "  Svg.polygon\n",
    "    [ points (List.foldr (\\x lst -> fromInt x ++ \" \" ++ lst) \"\" pts)\n",
    "    , fill color]\n",
    "    []\n",
    "\n",
    "translate : Int -> Int -> Shape msg -> Shape msg\n",
    "translate dx dy fig = \n",
    "  Svg.g\n",
    "    [ transform (\"translate(\" ++ (fromInt dx) ++ \",\" ++ (fromInt dy) ++ \")\")]\n",
    "    [ fig ]\n",
    "    \n",
    "moveDown dy = translate 0 dy\n",
    "moveUp dy = translate 0 (-dy)\n",
    "moveRight dx = translate dx 0\n",
    "moveLeft dx = translate (-dx) 0\n",
    "\n",
    "scale : Float -> Shape msg -> Shape msg\n",
    "scale factor fig =\n",
    "  Svg.g\n",
    "    [ transform (\"scale(\" ++ fromFloat(factor) ++ \")\")]\n",
    "    [ fig ]\n",
    "\n",
    "group : List (Shape msg) -> Shape msg\n",
    "group figs =\n",
    "  Svg.g [] figs\n",
    "\n",
    "picture : List (Shape msg) -> Html.Html msg\n",
    "picture figs = \n",
    "  Svg.svg\n",
    "    [ width \"500\", height \"500\", viewBox \"0 0 500 500\"]\n",
    "    [ Svg.g [transform \"translate(250,250)\"] figs ]\n",
    "\n",
    "brown = \"burlywood\"\n",
    "green = \"forestgreen\"\n",
    "red = \"red\"\n",
    "black = \"black\"\n",
    "\n",
    "tree = \n",
    "  group \n",
    "    [ rectangle brown 40 200 |> moveDown 80\n",
    "    , circle green 100 |> moveUp 100\n",
    "    ]\n",
    "\n",
    "forest n = \n",
    "  List.repeat n tree |> \n",
    "    List.indexedMap (\\i t -> t |> scale (0.7 ^ toFloat i) |> moveRight (100 * i) )\n",
    "\n",
    "\n",
    "main =\n",
    "  picture\n",
    "    [ line \"blue\" 0 0 400 0 |> moveLeft 200 |> moveDown 90 \n",
    "    , polygon red [0, 0, 100, 0, 50, -50] |> translate -150 90\n",
    "    , forest 3 |> group |> moveDown 50 |> moveLeft 100\n",
    "    ]\n",
    "\n",
    "-- compile-code"
   ]
  },
  {
   "cell_type": "markdown",
   "metadata": {
    "slideshow": {
     "slide_type": "slide"
    }
   },
   "source": [
    "Voor meer \"fun\" kun je met de Elm Playground aan de slag; zie: \n",
    "\n",
    "* https://package.elm-lang.org/packages/evancz/elm-playground/latest\n",
    "* voorbeelden: https://elm-lang.org/examples (onder Playground)\n",
    "\n",
    "**Opmerking: gebruik Playground niet in een Jupyter Notebook: dat blokkeert alles...**"
   ]
  },
  {
   "cell_type": "code",
   "execution_count": null,
   "metadata": {
    "slideshow": {
     "slide_type": "slide"
    }
   },
   "outputs": [],
   "source": []
  },
  {
   "cell_type": "code",
   "execution_count": null,
   "metadata": {},
   "outputs": [],
   "source": []
  },
  {
   "cell_type": "code",
   "execution_count": null,
   "metadata": {},
   "outputs": [],
   "source": []
  }
 ],
 "metadata": {
  "celltoolbar": "Diavoorstelling",
  "kernelspec": {
   "display_name": "Elm",
   "language": "elm",
   "name": "elm"
  },
  "language_info": {
   "codemirror_mode": "elm",
   "file_extension": ".elm",
   "mimetype": "text/x-elm",
   "name": "elm"
  },
  "toc": {
   "base_numbering": 1,
   "nav_menu": {},
   "number_sections": false,
   "sideBar": true,
   "skip_h1_title": true,
   "title_cell": "Table of Contents",
   "title_sidebar": "Contents",
   "toc_cell": false,
   "toc_position": {},
   "toc_section_display": true,
   "toc_window_display": false
  }
 },
 "nbformat": 4,
 "nbformat_minor": 4
}
