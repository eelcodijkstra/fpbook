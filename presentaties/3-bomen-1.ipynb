{
 "cells": [
  {
   "cell_type": "markdown",
   "metadata": {
    "slideshow": {
     "slide_type": "slide"
    }
   },
   "source": [
    "# Bomen"
   ]
  },
  {
   "cell_type": "markdown",
   "metadata": {
    "slideshow": {
     "slide_type": "slide"
    }
   },
   "source": [
    "Bomen vormen belangrijke structuur in informatica:\n",
    "\n",
    "* filesysteem (mappen en bestanden)\n",
    "* zoekbomen (o.a. B-trees in databases)\n",
    "* ontleedbomen, expressiebomen\n",
    "* HTML DOM (tussen HTML en rendering)\n",
    "* ...\n"
   ]
  },
  {
   "cell_type": "markdown",
   "metadata": {
    "slideshow": {
     "slide_type": "slide"
    }
   },
   "source": [
    "Ook buiten informatica vind je bomen:\n",
    "\n",
    "* hiërarchische structuur\n",
    "    * organisaties\n",
    "    * boek (inhoudsopgave)\n",
    "* biologie: takkenstructuur, wortelstructuur, longen, ...\n",
    "* rivieren"
   ]
  },
  {
   "cell_type": "markdown",
   "metadata": {
    "slideshow": {
     "slide_type": "slide"
    }
   },
   "source": [
    "Voorbeeld: grafische figuren in Elm\n",
    "\n",
    "* verschillende soorten figuren: lijnstuk, rechthoek, cirkel, ...\n",
    "* groep van figuren (handig voor herhaling e.d.)\n",
    "* verplaatsen van figuren (translate; rotate; scale)\n",
    "\n",
    "Gebruik van *Custom Types* (ook wel *union types*)"
   ]
  },
  {
   "cell_type": "markdown",
   "metadata": {
    "slideshow": {
     "slide_type": "slide"
    }
   },
   "source": [
    "Binaire boom als Custom type:\n",
    "\n",
    "```elm\n",
    "type Tree \n",
    "  = Node String Tree Tree  -- 1e alternatief\n",
    "  | Nil                    -- 2e alternatief\n",
    "```"
   ]
  },
  {
   "cell_type": "markdown",
   "metadata": {
    "slideshow": {
     "slide_type": "slide"
    }
   },
   "source": [
    "List als Custom type:\n",
    "\n",
    "``` Elm\n",
    "type List elt\n",
    "  = Cons elt (List elt)    -- 1e alternatief\n",
    "  | Empty                  -- 2e alternatief\n",
    "```\n",
    "\n",
    "Waarin `Cons` de rol heeft van `::` - `Cons a lst = a :: lst`"
   ]
  },
  {
   "cell_type": "markdown",
   "metadata": {
    "slideshow": {
     "slide_type": "slide"
    }
   },
   "source": [
    "Enkele voorbeelden van Tree-waarden:\n",
    "\n",
    "```elm\n",
    "tree45 = Node \"*\" (Node \"4\" Nil Nil) (Node \"5\" Nil Nil)\n",
    "tree345 = Node \"+\" (Node \"3\" Nil Nil) tree45 \n",
    "\n",
    "a = Node \"jet\" (Node \"aap\" Nil Nil) (Node \"mies\" Nil Nil)\n",
    "b = Node \"wim\" (Node \"vuur\" Nil Nil) (Node \"zus\" Nil Nil)\n",
    "c = Node \"noot\" a b\n",
    "```"
   ]
  },
  {
   "cell_type": "markdown",
   "metadata": {
    "slideshow": {
     "slide_type": "slide"
    }
   },
   "source": [
    "Verschillende manieren om boom in string om te zetten:\n",
    "prefix, infix, postfix\n",
    "\n",
    "```elm\n",
    "prefix tree =\n",
    "  case tree of\n",
    "    Node str left right -> \n",
    "      str ++ \" \" ++ (prefix left) ++ \" \" ++(prefix right)\n",
    "      \n",
    "    Nil -> \n",
    "      \"\"\n",
    "```"
   ]
  },
  {
   "cell_type": "code",
   "execution_count": null,
   "metadata": {
    "slideshow": {
     "slide_type": "slide"
    }
   },
   "outputs": [],
   "source": [
    "import Html exposing (..)\n",
    "import String exposing (..)\n",
    "\n",
    "type Tree \n",
    "  = Node String Tree Tree  -- 1e alternatief\n",
    "  | Nil                    -- 2e alternatief\n",
    "  \n",
    "tree45 = Node \"*\" (Node \"4\" Nil Nil) (Node \"5\" Nil Nil)\n",
    "tree345 = Node \"+\" (Node \"3\" Nil Nil) tree45 \n",
    "\n",
    "prefix tree =\n",
    "  case tree of\n",
    "    Node str left right -> \n",
    "      str ++ \" \" ++ (prefix left) ++ \" \" ++(prefix right)     \n",
    "    Nil -> \n",
    "      \"\"\n",
    "\n",
    "main =\n",
    "  text (prefix tree345)\n",
    "-- compile-code"
   ]
  },
  {
   "cell_type": "markdown",
   "metadata": {
    "slideshow": {
     "slide_type": "slide"
    }
   },
   "source": [
    "## Binaire zoekboom\n",
    "\n",
    "* waarden links <= waarde wortel <= waarden rechts\n",
    "* gebalanceerde binaire zoekboom: zoeken O(N log N).\n",
    "\n",
    "![binaire zoekboom](bin-zoekboom.png)"
   ]
  },
  {
   "cell_type": "code",
   "execution_count": null,
   "metadata": {
    "slideshow": {
     "slide_type": "slide"
    }
   },
   "outputs": [],
   "source": [
    "import Html exposing (..)\n",
    "import String exposing (..)\n",
    "\n",
    "type Tree \n",
    "  = Node String Tree Tree  -- 1e alternatief\n",
    "  | Nil                    -- 2e alternatief\n",
    "  \n",
    "a = Node \"jet\" (Node \"aap\" Nil Nil) (Node \"mies\" Nil Nil)\n",
    "b = Node \"wim\" (Node \"vuur\" Nil Nil) (Node \"zus\" Nil Nil)\n",
    "c = Node \"noot\" a b\n",
    "\n",
    "infix tree =\n",
    "  case tree of\n",
    "    Node str left right -> \n",
    "     (infix left) ++ \" \" ++ str ++ \" \" ++(infix right)     \n",
    "    Nil -> \n",
    "      \"\"\n",
    "\n",
    "main =\n",
    "  text (infix c)\n",
    "-- compile-code"
   ]
  },
  {
   "cell_type": "markdown",
   "metadata": {
    "slideshow": {
     "slide_type": "slide"
    }
   },
   "source": [
    "**Opdrachten**\n",
    "\n",
    "* pas dit programma aan om de boom in *postfix* af te drukken: eerste de kind-bomen, dan de wortel.\n",
    "* gebruik de boom voor de expressie `3 + 4 * 5`, en druk deze in postfix af\n",
    "* dat geeft de rekenvolgorde van een HP rekenmachine (stack machine):\n",
    "    * push 3; push 4; push 5; mul; add\n",
    "* definieer een boom voor de expressie `(3 + 4) * 5`\n",
    "* druk deze boom in postfix af\n",
    "* vergelijk de postfix-reeks met de vorige"
   ]
  },
  {
   "cell_type": "markdown",
   "metadata": {
    "slideshow": {
     "slide_type": "slide"
    }
   },
   "source": [
    "## N-aire boom\n",
    "\n",
    "Voorbeeld: inhoudsopgave van een boek\n",
    "\n",
    "Andere voorbeelden: Html, Svg bomen (\"DOM\" in browser)"
   ]
  },
  {
   "cell_type": "code",
   "execution_count": null,
   "metadata": {
    "slideshow": {
     "slide_type": "subslide"
    }
   },
   "outputs": [],
   "source": [
    "import Html exposing (..)\n",
    "import String exposing (..)\n",
    "\n",
    "type Tree a\n",
    "  = Node a (List (Tree a))\n",
    "\n",
    "type alias Toc = Tree String"
   ]
  },
  {
   "cell_type": "code",
   "execution_count": null,
   "metadata": {
    "slideshow": {
     "slide_type": "subslide"
    }
   },
   "outputs": [],
   "source": [
    "printToc : Toc -> List (Html msg)\n",
    "printToc toc  =\n",
    "  printSubtocs [toc] \"\"\n",
    "\n",
    "printSubtocs : List Toc -> String -> List (Html msg)\n",
    "printSubtocs tocs pref =\n",
    "  case tocs of\n",
    "    (Node x s) :: xs ->\n",
    "      let \n",
    "        head = Html.div [] [Html.text (pref ++ \" \" ++ x)]\n",
    "        subs = printSubtocs s (pref ++ \"...\")\n",
    "        next = printSubtocs xs pref\n",
    "      in\n",
    "        head :: subs ++ next\n",
    "    \n",
    "    [] ->\n",
    "      []"
   ]
  },
  {
   "cell_type": "code",
   "execution_count": null,
   "metadata": {
    "slideshow": {
     "slide_type": "subslide"
    }
   },
   "outputs": [],
   "source": [
    "toc1 = Node \"Titel\" [hoofdstuk1, hoofdstuk2, hoofdstuk3]\n",
    "hoofdstuk1 = Node \"Hoofdstuk 1\" [sectie11, sectie12]\n",
    "sectie11 = Node \"Sectie1-1\" []\n",
    "sectie12 = Node \"Sectie1-2\" []\n",
    "hoofdstuk2 = Node \"Hoofdstuk 2\" [sectie21, sectie22, sectie23]\n",
    "sectie21 = Node \"Sectie2-1\" []\n",
    "sectie22 = Node \"Sectie2-2\" []\n",
    "sectie23 = Node \"Sectie2-3\" []\n",
    "hoofdstuk3 = Node \"Hoofdstuk 3\" [sectie31, sectie32]\n",
    "sectie31 = Node \"Sectie2-1\" []\n",
    "sectie32 = Node \"Sectie2-2\" []\n",
    "\n",
    "\n",
    "main = div [] (printToc toc1)"
   ]
  },
  {
   "cell_type": "code",
   "execution_count": null,
   "metadata": {
    "slideshow": {
     "slide_type": "subslide"
    }
   },
   "outputs": [],
   "source": [
    "-- compile-code"
   ]
  },
  {
   "cell_type": "markdown",
   "metadata": {
    "slideshow": {
     "slide_type": "slide"
    }
   },
   "source": [
    "**Opdracht**\n",
    "\n",
    "* Pas dit programma aan: voeg een 4e sectie toe aan hoofdstuk 2\n",
    "* is het uitvoer-formaat: infix, prefix, postfix?\n",
    "* waar kom je een dergelijke layout van een boom nog meer tegen?"
   ]
  },
  {
   "cell_type": "markdown",
   "metadata": {
    "slideshow": {
     "slide_type": "slide"
    }
   },
   "source": [
    "## SVG\n",
    "\n",
    "Voorbeeld van een SVG-figuur als boomstructuur: `circle` en `rect` zijn sub-bomen van `svg`."
   ]
  },
  {
   "cell_type": "code",
   "execution_count": null,
   "metadata": {
    "slideshow": {
     "slide_type": "slide"
    }
   },
   "outputs": [],
   "source": [
    "import Svg exposing (svg, circle, rect)\n",
    "import Svg.Attributes exposing (..)\n",
    "\n",
    "main =\n",
    "  svg\n",
    "    [ width \"200\", height \"200\", viewBox \"0 0 200 200\" ]\n",
    "    [ circle [ cx \"50\", cy \"50\", r \"50\", fill \"green\" ] []\n",
    "    , rect [x \"40\", y \"90\", width \"20\", height \"80\", fill \"burlywood\" ] []\n",
    "    ]\n",
    "\n",
    "-- compile-code"
   ]
  },
  {
   "cell_type": "markdown",
   "metadata": {
    "slideshow": {
     "slide_type": "slide"
    }
   },
   "source": [
    "## Afdrukken van een boom\n",
    "\n",
    " "
   ]
  },
  {
   "cell_type": "code",
   "execution_count": null,
   "metadata": {
    "slideshow": {
     "slide_type": "subslide"
    }
   },
   "outputs": [],
   "source": [
    "import Svg exposing (..)\n",
    "import Svg.Attributes exposing (..)\n",
    "import String exposing (fromInt, length)\n",
    "\n",
    "type Tree \n",
    "  = Node String Tree Tree\n",
    "  | Nil"
   ]
  },
  {
   "cell_type": "code",
   "execution_count": null,
   "metadata": {
    "slideshow": {
     "slide_type": "subslide"
    }
   },
   "outputs": [],
   "source": [
    "translate : (Int, Int) -> List (Svg msg) -> Svg msg\n",
    "translate (x, y) lst =\n",
    "  Svg.g\n",
    "    [transform (\"translate(\" ++ fromInt(x) ++ \",\" ++ fromInt(y) ++ \")\")]\n",
    "    lst\n",
    "\n",
    "unitwidth = 30\n",
    "unitheight = 50"
   ]
  },
  {
   "cell_type": "code",
   "execution_count": null,
   "metadata": {
    "slideshow": {
     "slide_type": "subslide"
    }
   },
   "outputs": [],
   "source": [
    "twidth : Tree -> (Int, Int)\n",
    "twidth t =\n",
    "  case t of        \n",
    "    Node str left right ->\n",
    "      let\n",
    "        (lw, _) = twidth left\n",
    "        (rw, _) = twidth right\n",
    "      in\n",
    "        (lw + unitwidth + rw, lw + (unitwidth // 2))\n",
    "\n",
    "    Nil ->\n",
    "      (0, 0)\n",
    "      \n",
    "swidth str =\n",
    "  length str * 4"
   ]
  },
  {
   "cell_type": "code",
   "execution_count": null,
   "metadata": {
    "slideshow": {
     "slide_type": "subslide"
    }
   },
   "outputs": [],
   "source": [
    "drawLine : (Int, Int) -> (Int, Int) -> Svg msg\n",
    "drawLine (xa, ya) (xb, yb) =\n",
    "  Svg.line\n",
    "    [ x1 (fromInt xa)\n",
    "    , y1 (fromInt ya)\n",
    "    , x2 (fromInt xb)\n",
    "    , y2 (fromInt yb)\n",
    "    , stroke \"black\"\n",
    "    , strokeWidth \"1\"    \n",
    "    ]\n",
    "    []"
   ]
  },
  {
   "cell_type": "code",
   "execution_count": null,
   "metadata": {
    "slideshow": {
     "slide_type": "subslide"
    }
   },
   "outputs": [],
   "source": [
    "vspace = unitheight - 20\n",
    "\n",
    "drawTree : Tree -> Svg msg\n",
    "drawTree t =\n",
    "  case t of\n",
    "    Node str Nil Nil ->\n",
    "      translate (unitwidth // 2 - swidth str, 0) [Svg.text_ [] [text str]]\n",
    "      \n",
    "    Node str Nil right ->\n",
    "      let\n",
    "        (rw, rm) = twidth right\n",
    "        rtree = translate (unitwidth, unitheight) [drawTree right]\n",
    "        node = translate (unitwidth // 2 - swidth str, 0) [Svg.text_ [] [text str]]\n",
    "        rightedge = drawLine (unitwidth // 2, 5) (unitwidth + rm, vspace)\n",
    "      in\n",
    "        Svg.g [] [node, rtree, rightedge]\n",
    "\n",
    "    Node str left Nil ->\n",
    "      let\n",
    "        (lw, lm) = twidth left\n",
    "        ltree = translate (0, unitheight) [drawTree left]\n",
    "        node = translate (lw + unitwidth // 2 - swidth str, 0) [Svg.text_ [] [text str]]\n",
    "        leftedge = drawLine (lw + unitwidth // 2, 5) (lm, vspace)\n",
    "      in\n",
    "        Svg.g [] [ltree, node, leftedge]     \n",
    "        \n",
    "    Node str left right ->\n",
    "      let\n",
    "        (lw, lm) = twidth left\n",
    "        (rw, rm) = twidth right\n",
    "        ltree = translate (0, unitheight) [drawTree left]\n",
    "        rtree = translate (lw + unitwidth, unitheight) [drawTree right]\n",
    "        node = translate (lw + unitwidth // 2 - swidth str, 0) [Svg.text_ [] [text str]]\n",
    "        leftedge = drawLine (lw + unitwidth // 2, 5) (lm, vspace)\n",
    "        rightedge = drawLine (lw + unitwidth // 2, 5) (lw + unitwidth + rm, vspace)\n",
    "      in\n",
    "        Svg.g [] [ltree, node, rtree, leftedge, rightedge]\n",
    "    Nil ->\n",
    "      Svg.text_ [] [text \".\"]\n",
    "      "
   ]
  },
  {
   "cell_type": "code",
   "execution_count": null,
   "metadata": {
    "slideshow": {
     "slide_type": "subslide"
    }
   },
   "outputs": [],
   "source": [
    "tree345 = Node \"+\" (Node \"3\" Nil Nil)  (Node \"*\" (Node \"4\" Nil Nil) (Node \"5\" Nil Nil) )\n",
    "\n",
    "a = Node \"jet\" (Node \"aap\" Nil Nil) (Node \"mies\" Nil Nil)\n",
    "b = Node \"wim\" (Node \"vuur\" Nil Nil) (Node \"zus\" Nil Nil)\n",
    "c = Node \"noot\" a b\n",
    "\n",
    "main =\n",
    "  svg\n",
    "    [ width \"600\", height \"300\", viewBox \"0 0 600 300\" ]\n",
    "    [ translate (20, 50) [drawTree c]\n",
    "    , translate (400, 50) [drawTree tree345]\n",
    "    ]\n",
    "    \n",
    "-- compile-code"
   ]
  },
  {
   "cell_type": "code",
   "execution_count": null,
   "metadata": {
    "slideshow": {
     "slide_type": "slide"
    }
   },
   "outputs": [],
   "source": []
  },
  {
   "cell_type": "markdown",
   "metadata": {
    "slideshow": {
     "slide_type": "slide"
    }
   },
   "source": [
    "**Opdrachten**\n",
    "\n",
    "* Teken de expressieboom voor `(3 + 4) * 5`."
   ]
  },
  {
   "cell_type": "code",
   "execution_count": null,
   "metadata": {
    "slideshow": {
     "slide_type": "subslide"
    }
   },
   "outputs": [],
   "source": [
    "import Svg exposing (..)\n",
    "import Svg.Attributes exposing (..)\n",
    "import String exposing (fromInt, length)\n",
    "\n",
    "type Tree \n",
    "  = Node String Tree Tree\n",
    "  | Nil\n",
    "\n",
    "translate : (Int, Int) -> List (Svg msg) -> Svg msg\n",
    "translate (x, y) lst =\n",
    "  Svg.g\n",
    "    [transform (\"translate(\" ++ fromInt(x) ++ \",\" ++ fromInt(y) ++ \")\")]\n",
    "    lst\n",
    "\n",
    "unitwidth = 30\n",
    "unitheight = 50\n",
    "\n",
    "twidth : Tree -> (Int, Int)\n",
    "twidth t =\n",
    "  case t of        \n",
    "    Node str left right ->\n",
    "      let\n",
    "        (lw, _) = twidth left\n",
    "        (rw, _) = twidth right\n",
    "      in\n",
    "        (lw + unitwidth + rw, lw + (unitwidth // 2))\n",
    "\n",
    "    Nil ->\n",
    "      (0, 0)\n",
    "      \n",
    "swidth str =\n",
    "  length str * 4\n",
    "\n",
    "drawLine : (Int, Int) -> (Int, Int) -> Svg msg\n",
    "drawLine (xa, ya) (xb, yb) =\n",
    "  Svg.line\n",
    "    [ x1 (fromInt xa)\n",
    "    , y1 (fromInt ya)\n",
    "    , x2 (fromInt xb)\n",
    "    , y2 (fromInt yb)\n",
    "    , stroke \"black\"\n",
    "    , strokeWidth \"1\"    \n",
    "    ]\n",
    "    []\n",
    "\n",
    "vspace = unitheight - 20\n",
    "\n",
    "drawTree : Tree -> Svg msg\n",
    "drawTree t =\n",
    "  case t of\n",
    "    Node str Nil Nil ->\n",
    "      translate (unitwidth // 2 - swidth str, 0) [Svg.text_ [] [text str]]\n",
    "      \n",
    "    Node str Nil right ->\n",
    "      let\n",
    "        (rw, rm) = twidth right\n",
    "        rtree = translate (unitwidth, unitheight) [drawTree right]\n",
    "        node = translate (unitwidth // 2 - swidth str, 0) [Svg.text_ [] [text str]]\n",
    "        rightedge = drawLine (unitwidth // 2, 5) (unitwidth + rm, vspace)\n",
    "      in\n",
    "        Svg.g [] [node, rtree, rightedge]\n",
    "\n",
    "    Node str left Nil ->\n",
    "      let\n",
    "        (lw, lm) = twidth left\n",
    "        ltree = translate (0, unitheight) [drawTree left]\n",
    "        node = translate (lw + unitwidth // 2 - swidth str, 0) [Svg.text_ [] [text str]]\n",
    "        leftedge = drawLine (lw + unitwidth // 2, 5) (lm, vspace)\n",
    "      in\n",
    "        Svg.g [] [ltree, node, leftedge]     \n",
    "        \n",
    "    Node str left right ->\n",
    "      let\n",
    "        (lw, lm) = twidth left\n",
    "        (rw, rm) = twidth right\n",
    "        ltree = translate (0, unitheight) [drawTree left]\n",
    "        rtree = translate (lw + unitwidth, unitheight) [drawTree right]\n",
    "        node = translate (lw + unitwidth // 2 - swidth str, 0) [Svg.text_ [] [text str]]\n",
    "        leftedge = drawLine (lw + unitwidth // 2, 5) (lm, vspace)\n",
    "        rightedge = drawLine (lw + unitwidth // 2, 5) (lw + unitwidth + rm, vspace)\n",
    "      in\n",
    "        Svg.g [] [ltree, node, rtree, leftedge, rightedge]\n",
    "    Nil ->\n",
    "      Svg.text_ [] [text \".\"]\n",
    "      \n",
    "\n",
    "drie = Node \"3\" Nil Nil\n",
    "vier = Node \"4\" Nil Nil\n",
    "vijf = Node \"5\" Nil Nil\n",
    "tree345 = Node \"+\" drie  (Node \"*\" vier vijf )\n",
    "\n",
    "a = Node \"jet\" (Node \"aap\" Nil Nil) (Node \"mies\" Nil Nil)\n",
    "b = Node \"wim\" (Node \"vuur\" Nil Nil) (Node \"zus\" Nil Nil)\n",
    "c = Node \"noot\" a b\n",
    "\n",
    "main =\n",
    "  svg\n",
    "    [ width \"600\"\n",
    "    , height \"300\"\n",
    "    , viewBox \"0 0 600 300\"\n",
    "    ]\n",
    "    [ translate (20, 50) [drawTree c]\n",
    "    , translate (400, 50) [drawTree tree345]\n",
    "    ]\n",
    "    \n",
    "-- compile-code"
   ]
  },
  {
   "cell_type": "code",
   "execution_count": null,
   "metadata": {},
   "outputs": [],
   "source": []
  }
 ],
 "metadata": {
  "celltoolbar": "Diavoorstelling",
  "kernelspec": {
   "display_name": "Elm",
   "language": "elm",
   "name": "elm"
  },
  "language_info": {
   "codemirror_mode": "elm",
   "file_extension": ".elm",
   "mimetype": "text/x-elm",
   "name": "elm"
  },
  "toc": {
   "base_numbering": 1,
   "nav_menu": {},
   "number_sections": false,
   "sideBar": true,
   "skip_h1_title": true,
   "title_cell": "Table of Contents",
   "title_sidebar": "Contents",
   "toc_cell": false,
   "toc_position": {},
   "toc_section_display": true,
   "toc_window_display": false
  }
 },
 "nbformat": 4,
 "nbformat_minor": 4
}
