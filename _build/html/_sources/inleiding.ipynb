{
 "cells": [
  {
   "cell_type": "markdown",
   "metadata": {},
   "source": [
    "# Inleiding\n",
    "\n",
    "Functioneel programmeren is een stijl van programmeren waarbij het gebruik van functies centraal staat. Het is één van de belangrijke programmeerparadigma's, naast imperatief programmeren en object-georiënteerd programmeren. Deze stijl van programmeren met functies kun je overigens ook toepassen in andere programmeertalen."
   ]
  },
  {
   "cell_type": "markdown",
   "metadata": {},
   "source": [
    "## Wat is functioneel programmeren?"
   ]
  },
  {
   "cell_type": "markdown",
   "metadata": {},
   "source": [
    "## Waarom functioneel programmeren?"
   ]
  },
  {
   "cell_type": "markdown",
   "metadata": {},
   "source": [
    "## Hoe functioneel programmeren?"
   ]
  },
  {
   "cell_type": "markdown",
   "metadata": {},
   "source": [
    "## Over dit materiaal\n",
    "\n",
    "* je kunt niet in een paar uurtjes leren functioneel programmeren\n",
    "* je kunt niet in eeen paar uurtjes Elm leren.\n",
    "\n",
    "Met andere woorden: we moeten in dit materiaal noodgedwongen erg selectief zijn.\n",
    "Het doel is niet om te leren functioneel programmeren; het doel is niet om Elm te leren.\n",
    "\n",
    "Het doel van dit materiaal is om een basisbegrip van functioneel programmeren te krijgen, en van enkele van de belangrijke voordelen.\n",
    "\n",
    "* referential transparency\n",
    "\n",
    "> In functional programming, referential transparency is generally defined as the fact that an expression, in a program, may be replaced by its value (or anything having the same value) without changing the result of the program."
   ]
  },
  {
   "cell_type": "markdown",
   "metadata": {},
   "source": [
    "Eén van de voordelen van Elm is de typering; te vergelijken met de typering in Haskell.\n",
    "Op zich is deze statische typering niet gekoppeld aan functioneel programmeren:\n",
    "je kunt functionele programmeertalen hebben zonder statische typering - vgl. Lisp.\n",
    "En je kunt niet-functionele programmeertalen hebben met statische typering - vgl. Java, of nog beter: Rust."
   ]
  },
  {
   "cell_type": "markdown",
   "metadata": {},
   "source": [
    "* https://www.sitepoint.com/what-is-referential-transparency/"
   ]
  },
  {
   "cell_type": "markdown",
   "metadata": {},
   "source": [
    "Gevolgen van referential transparency:\n",
    "\n",
    "* programma's beter leesbaar\n",
    "* optimalisatie, bijvoorbeeld caching; lazy evaluation; (of juist eager); efficiënt/selectief bijwerken van de DOM"
   ]
  },
  {
   "cell_type": "code",
   "execution_count": null,
   "metadata": {},
   "outputs": [],
   "source": []
  }
 ],
 "metadata": {
  "kernelspec": {
   "display_name": "Elm",
   "language": "elm",
   "name": "elm"
  },
  "language_info": {
   "codemirror_mode": "elm",
   "file_extension": ".elm",
   "mimetype": "text/x-elm",
   "name": "elm"
  }
 },
 "nbformat": 4,
 "nbformat_minor": 4
}
