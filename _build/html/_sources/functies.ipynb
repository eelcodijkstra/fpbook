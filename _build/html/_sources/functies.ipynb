{
 "cells": [
  {
   "cell_type": "markdown",
   "metadata": {},
   "source": [
    "# Functies\n",
    "\n",
    "* functie-definitie\n",
    "    * parameters\n",
    "    * \"body\", functie-expressie\n",
    "* functie-aanroep\n",
    "    * \"functionele rekenmodel\"\n",
    "    * NB: eerst uitrekenen van functie-resultaat * in de omgeving van de functie-definitie*; dan vervangen van de aanroep door het resultaat.\n",
    "* \"referential transparency\", in het bijzonder voor functie-aanroepen"
   ]
  },
  {
   "cell_type": "markdown",
   "metadata": {},
   "source": [
    "## Functie-compositie\n",
    "\n",
    "Met functie-compositie maak je een nieuwe functie uit twee bestaande functies.\n",
    "\n",
    "Voorbeeld: de functie `isOdd` kun je maken uit `isEven` en `not`. Elm heeft twee operatoren voor het samenstellen van functies:\n",
    "\n",
    "* `(f << g) x == f ( g x )` \n",
    "* `(g >> f) x == f ( g x )`\n",
    "\n",
    "De \"pijl\" geeft de richting aan van de data; je kunt `f << g` lezen als \"f na g\"."
   ]
  },
  {
   "cell_type": "code",
   "execution_count": 1,
   "metadata": {},
   "outputs": [],
   "source": [
    "isEven : Int -> Bool\n",
    "isEven x = modBy 2 x == 0\n",
    "\n",
    "isOdd : Int -> Bool\n",
    "isOdd = not << isEven\n",
    "\n",
    "evens = List.filter isEven (List.range 1 10)\n",
    "odds = List.filter isOdd (List.range 1 10)"
   ]
  },
  {
   "cell_type": "code",
   "execution_count": null,
   "metadata": {},
   "outputs": [],
   "source": []
  }
 ],
 "metadata": {
  "kernelspec": {
   "display_name": "Elm",
   "language": "elm",
   "name": "elm"
  },
  "language_info": {
   "codemirror_mode": "elm",
   "file_extension": ".elm",
   "mimetype": "text/x-elm",
   "name": "elm"
  }
 },
 "nbformat": 4,
 "nbformat_minor": 4
}
