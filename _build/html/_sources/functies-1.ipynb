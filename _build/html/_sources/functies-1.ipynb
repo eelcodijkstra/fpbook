{
 "cells": [
  {
   "cell_type": "markdown",
   "metadata": {},
   "source": [
    "# Functies (1)\n",
    "\n",
    "**Onderwerpen:** functie-definitie; functie-aanroep; typering van functies; Currying; anonieme functies.\n"
   ]
  },
  {
   "cell_type": "markdown",
   "metadata": {
    "slideshow": {
     "slide_type": "slide"
    }
   },
   "source": [
    "Een functie-aanroep heeft de vorm: `fname par1 par2 ...`: de naam van de functie gevolgd door de parameter-expressies.\n",
    "In tegenstelling tot veel andere programmeertalen worden hierbij geen haakjes en komma's gebruikt.\n",
    "Soms zijn haakjes nodig omdat functie-aanroep sterker bindt dan optellen of vermenigvuldigen, of omdat een expressie van rechts naar links uitgerekend moet worden.\n",
    "\n",
    "Enkele voorbeelden van functie-aanroepen:\n",
    "\n",
    "```elm\n",
    "double 3\n",
    "max 3 4\n",
    "succ (double 4)\n",
    "max (double 4) (succ 9)\n",
    "List.map f [1,2,3]\n",
    "```\n",
    "\n",
    "Zonder haakjes zou `succ double 4` verwerkt worden als `(succ double) 4` (wat een foutmelding geeft)."
   ]
  },
  {
   "cell_type": "markdown",
   "metadata": {
    "slideshow": {
     "slide_type": "slide"
    }
   },
   "source": [
    "## Functie-definitie\n",
    "\n",
    "Voordat je een functie kunt gebruiken moet deze gedefinieerd zijn.\n",
    "Je kunt een voorgedefinieerde functie gebruiken uit een geïmporteerde module (*package*),\n",
    "of een zelf-gedefinieerde functie.\n",
    "\n",
    "Een functie-definitie heeft de vorm: `fname pname1 pname2 pname3 ... = ...expr in pname1, ...`\n",
    "De namen van de parameters kun je vrij kiezen, deze hebben alleen betekenis in de definitie,\n",
    "niet bij de aanroep.\n",
    "\n",
    "Enkele voorbeelden van functie-definities:\n",
    "\n",
    "```elm\n",
    "double x = x + x\n",
    "\n",
    "max x y = if x >= y then x else y\n",
    "\n",
    "succ x = x + 1\n",
    "```\n",
    "\n",
    "De betekenis van zo'n definitie is dat je een functie-aanroep kunt vervangen door het rechterlid van de definitie (de \"body\"), waarbij je de parameternamen vervangt door de parameter-waarden in de aanroep.\n",
    "\n",
    "Merk op dat hier, net als bij de aanroep, geen haakjes gebruikt worden."
   ]
  },
  {
   "cell_type": "markdown",
   "metadata": {
    "slideshow": {
     "slide_type": "slide"
    }
   },
   "source": [
    "## Rekenen met functies\n",
    "\n",
    "In het voorbeeld hieronder werken we een functie-aanroep met de hand uit,\n",
    "waarbij we steeds een aanroep vervangen door het bijbehorende rechterlid van de definitie.\n",
    "Bij elke stap beschrijven we welke regel we gebruiken.\n",
    "\n",
    "```\n",
    "    double (double 3)\n",
    "=                 { def. double x = x + x }\n",
    "    double (3 + 3)\n",
    "=                 { rekenen }\n",
    "    double 6\n",
    "=                 { def. double }\n",
    "    6 + 6\n",
    "=                 { rekenen }\n",
    "    12\n",
    "```\n",
    "\n",
    "Dit voorbeeld is nog erg eenvoudig, maar het gaat om de systematische aanpak.\n",
    "Het gebruik hiervan bij de lastige functies die we later tegenkomen helpt om de principes onder de knie te krijgen."
   ]
  },
  {
   "cell_type": "markdown",
   "metadata": {
    "slideshow": {
     "slide_type": "slide"
    }
   },
   "source": [
    "Nog een voorbeeld, nu met een `if`-expressie. De `if`-regel is:\n",
    "```\n",
    "   if True then x else y   => x\n",
    "   if False then x else y  => y\n",
    "```\n",
    "\n",
    "We gebruiken hieronder de functie: `max x y = if x >= y then x else y`.\n",
    "\n",
    "```\n",
    "    max 3 (double 2)\n",
    "=              { def. double }\n",
    "    max 3 (2 + 2)\n",
    "=              { rekenen }\n",
    "    max 3 4\n",
    "=              { def. max }\n",
    "    if 3 >= 4 then 3 else 4\n",
    "=              { rekenen }\n",
    "    if False then 3 else 4\n",
    "=              { if-regel }\n",
    "    4\n",
    "```    "
   ]
  },
  {
   "cell_type": "markdown",
   "metadata": {
    "slideshow": {
     "slide_type": "slide"
    }
   },
   "source": [
    "## Typering van functies\n",
    "\n",
    "```\n",
    "double: Int -> Int\n",
    "double x = x + x\n",
    "\n",
    "max: Int -> Int -> Int\n",
    "max x y = if x >= y then x else y\n",
    "\n",
    "```\n",
    "\n",
    "Niet verplicht, maar wel handig: betere foutmeldingen"
   ]
  },
  {
   "cell_type": "markdown",
   "metadata": {
    "slideshow": {
     "slide_type": "slide"
    }
   },
   "source": [
    "## Currying \n",
    "\n",
    "```\n",
    "max: Int -> (Int -> Int)\n",
    "max x y = if x >= y then x else y\n",
    "```\n",
    "\n",
    "Aanroep van max met 1 parameter: levert functie-waarde op!\n",
    "\n",
    "```\n",
    "max3 = max 3 -- function Int -> Int\n",
    "\n",
    "max3 12      -- > 12\n",
    "```"
   ]
  },
  {
   "cell_type": "markdown",
   "metadata": {
    "slideshow": {
     "slide_type": "slide"
    }
   },
   "source": [
    "## Anonieme functies\n",
    "\n",
    "* voor eenmalige functies kun je de lambda-notatie voor anonieme functies gebruiken\n",
    "* vorm: `\\x -> ...expr met x`\n",
    "* `\\` staat voor lambda ($\\lambda$)\n",
    "\n",
    "```\n",
    "sqr x = x * x\n",
    "\n",
    "-- is gelijk aan:\n",
    "\n",
    "sqr = \\x -> x * x\n",
    "\n",
    "```"
   ]
  },
  {
   "cell_type": "markdown",
   "metadata": {},
   "source": [
    "## Voorbeeld: bulletlist\n",
    "\n",
    "We hebben eerder het onderstaande programma gezien, als voorbeeld van het benutten van functies in de context van HTML."
   ]
  },
  {
   "cell_type": "code",
   "execution_count": null,
   "metadata": {
    "slideshow": {
     "slide_type": "slide"
    }
   },
   "outputs": [],
   "source": [
    "import Html exposing (div, ul, li, text)\n",
    "import Html.Attributes exposing (style)\n",
    "import List exposing (map)\n",
    "\n",
    "bulletlist attrs lst =\n",
    "  ul attrs (map (\\elt -> li [] [text elt]) lst)\n",
    "\n",
    "main =\n",
    "  div []\n",
    "  [ bulletlist [] [\"aap\", \"noot\", \"mies\"]\n",
    "  , bulletlist [style \"color\" \"blue\"] [\"wim\", \"zus\", \"jet\"]  \n",
    "  ]\n",
    "  \n",
    "-- compile-code"
   ]
  },
  {
   "cell_type": "markdown",
   "metadata": {},
   "source": [
    "Op basis van de bovenstaande uitleg over functies is de functie `bulletlist` al wat beter te begrijpen: \n",
    "\n",
    "```\n",
    "bulletlist attrs lst =\n",
    "  ul attrs (map (\\elt -> li [] [text elt]) lst)\n",
    "```\n",
    "\n",
    "* dit is de definitie van een functie met twee parameters, `attrs` en `lst`.\n",
    "* `ul attrs (...)` is de aanroep van de functie `ul` met twee parameters\n",
    "* `map (...) lst` is de aanroep van een functie met twee parameters,\n",
    "* waarvan de eerste parameter een *anonieme functie* is:\n",
    "* `\\elt -> li [] [text elt]`\n",
    "* hierin is `li [] [...]` weer de aanroep van een functie met 2 parameters.\n",
    "* de functies `ul` en `li` zijn Elm-functies die overeenkomen met de HTML-tags `<ul>` en `<li>`\n",
    "\n",
    "In het volgende hoofdstuk behandelen we de functie `map f lst`: het resultaat is een lijst waarin `f` toegepast is op elm element van de oorspronkelijke lijst.\n",
    "\n",
    "```\n",
    "  map double [1,3,5] == [double 1, double 3, double 5] == [2, 6, 10]\n",
    "```\n",
    "\n",
    "Ga na dat je met het gebruik van `map` in het HTML-voorbeeld een lijst-element (`li`) maakt voor elk element van de lijst `lst`.\n",
    "\n",
    "We hebben bij deze functie `bulletlist` nog geen typering gegeven. Ga zelf na hoe deze eruit zou kunnen zien.\n"
   ]
  },
  {
   "cell_type": "code",
   "execution_count": null,
   "metadata": {},
   "outputs": [],
   "source": []
  },
  {
   "cell_type": "code",
   "execution_count": null,
   "metadata": {},
   "outputs": [],
   "source": []
  }
 ],
 "metadata": {
  "kernelspec": {
   "display_name": "Elm",
   "language": "elm",
   "name": "elm"
  },
  "language_info": {
   "codemirror_mode": "elm",
   "file_extension": ".elm",
   "mimetype": "text/x-elm",
   "name": "elm"
  }
 },
 "nbformat": 4,
 "nbformat_minor": 4
}
