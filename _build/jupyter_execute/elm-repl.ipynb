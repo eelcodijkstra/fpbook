{
 "cells": [
  {
   "cell_type": "markdown",
   "metadata": {},
   "source": [
    "# Elm repl\n",
    "\n",
    "\"repl\" staat voor \"read-eval-print-loop\": dit is de typische loop van een interpreter, zoals je dat misschien kent van Python.\n",
    "\n",
    "Hoewel Elm een gecompileerde taal is, is er ook voor Elm een \"repl\"-programma beschikbaar.\n",
    "Dit kun je in de commandoregel van Linux, OS X e.d. activeren, als je elm geïnstalleerd hebt.\n",
    "\n",
    "Hoewel we voor Jupyter Notebook (nog) geen geschikte elm-repl hebben, kun je hier in de Jupyter omgeving op verschillende manieren mee aan de slag:\n",
    "\n",
    "* in dit (Python) notebook kun je in een cel een shell-opdracht geven, waarin je vervolgens \"elm repl\" kunt aanroepen. In de regels daarna kun je de opdrachten geven die je anders interactief zou geven. Je voert deze uit door de cel uit te voeren (met het \"Run\" pijltje bovenin, of met Shift-Return). Zie de voorbeelden verderop.\n",
    "* je kunt in Jupyter een Terminal-venster openen (rechts boven onder \"New\"), waar je de opdracht \"elm repl\" kunt geven. Daarna kun je interactief met Elm aan de slag. Na elke Return verwerkt de interpreter je invoer, totdat deze uitgevoerd kan worden; dan krijg je een resultaat en een nieuwe prompt (`>`).\n",
    "\n",
    "\n",
    "Enkele dingen om op te letten:\n",
    "\n",
    "* de prompt van de elm-repl is `>`; als je als prompt `|` krijgt, is dat een teken dat de vorige opdracht volgens elm nog niet compleet is. Dit kun je bijvoorbeeld gebruiken om een functie-definitie over meerdere regels in te voeren. Je moet zo'n meer-regelige definitie wel afsluiten met een lege regel (net als in de interactieve repl).\n",
    "* elke cel in dit notebook gebruikt een verse elm-interpreter. Je kunt dus niet in de ene cel een functie definiëren die je in de volgende cel gebruikt.\n",
    "* in de repl-omgeving heb je geen HTML uitvoer tot je beschikking. Gebruik daarvoor een Elm-notebook."
   ]
  },
  {
   "cell_type": "markdown",
   "metadata": {},
   "source": [
    "## Voorbeeld\n",
    "\n",
    "Hieronder een voorbeeld, met een functie-definitie en een functie-aanroep. De extra tekens `>` en `|` die je in de uitvoer ziet, zijn de prompts die nu een beetje als mosterd na de maaltijd komen. "
   ]
  },
  {
   "cell_type": "code",
   "execution_count": 1,
   "metadata": {},
   "outputs": [
    {
     "name": "stdout",
     "output_type": "stream",
     "text": [
      "\u001b[90m----\u001b[0m \u001b[36mElm 0.19.1\u001b[0m \u001b[90m----------------------------------------------------------------\u001b[0m\n",
      "\u001b[90mSay :help for help and :exit to exit! More at <https://elm-lang.org/0.19.1/repl>\u001b[0m\n",
      "\u001b[90m--------------------------------------------------------------------------------\u001b[0m\n",
      "> > | | \u001b[36m<function>\u001b[0m\u001b[90m : Int -> Int\u001b[0m\n",
      "> \u001b[95m169\u001b[0m\u001b[90m : Int\u001b[0m\n",
      "> "
     ]
    }
   ],
   "source": [
    "%%bash\n",
    "elm repl\n",
    "\n",
    "sqr : Int -> Int\n",
    "sqr x = x * x\n",
    "\n",
    "sqr(13)"
   ]
  },
  {
   "cell_type": "markdown",
   "metadata": {},
   "source": [
    "Zoals eerder gezegd moet je alle elementen die je gebruikt (imports, functies) in dezelfde cel beschreven worden."
   ]
  },
  {
   "cell_type": "code",
   "execution_count": 2,
   "metadata": {},
   "outputs": [
    {
     "name": "stdout",
     "output_type": "stream",
     "text": [
      "\u001b[90m----\u001b[0m \u001b[36mElm 0.19.1\u001b[0m \u001b[90m----------------------------------------------------------------\u001b[0m\n",
      "\u001b[90mSay :help for help and :exit to exit! More at <https://elm-lang.org/0.19.1/repl>\u001b[0m\n",
      "\u001b[90m--------------------------------------------------------------------------------\u001b[0m\n",
      "> > > > | | \u001b[36m<function>\u001b[0m\u001b[90m : Int -> Int\u001b[0m\n",
      "> [\u001b[95m1\u001b[0m,\u001b[95m4\u001b[0m,\u001b[95m9\u001b[0m]\u001b[90m : List Int\u001b[0m\n",
      "> "
     ]
    }
   ],
   "source": [
    "%%bash\n",
    "elm repl\n",
    "\n",
    "import List exposing (..)\n",
    "\n",
    "sqr : Int -> Int\n",
    "sqr x = x * x\n",
    "\n",
    "List.map sqr [1,2,3]"
   ]
  },
  {
   "cell_type": "markdown",
   "metadata": {},
   "source": [
    "Wat is het type van de functie `List.foldr`?"
   ]
  },
  {
   "cell_type": "code",
   "execution_count": 3,
   "metadata": {},
   "outputs": [
    {
     "name": "stdout",
     "output_type": "stream",
     "text": [
      "\u001b[90m----\u001b[0m \u001b[36mElm 0.19.1\u001b[0m \u001b[90m----------------------------------------------------------------\u001b[0m\n",
      "\u001b[90mSay :help for help and :exit to exit! More at <https://elm-lang.org/0.19.1/repl>\u001b[0m\n",
      "\u001b[90m--------------------------------------------------------------------------------\u001b[0m\n",
      "> > > > \u001b[36m<function>\u001b[0m\u001b[90m : (a -> b -> b) -> b -> List a -> b\u001b[0m\n",
      "> "
     ]
    }
   ],
   "source": [
    "%%bash\n",
    "elm repl\n",
    "\n",
    "import List\n",
    "\n",
    "List.foldr"
   ]
  },
  {
   "cell_type": "markdown",
   "metadata": {},
   "source": [
    "## Opdrachten\n",
    "\n",
    "We geven hier enkele opdrachten om met de repl uit te voeren.\n",
    "\n",
    "1. definieer een functie voor het uitrekenen van het minimum van twee getallen, en demonstreer deze met 3 testgevallen. (Vul de `???` in de cel in.)"
   ]
  },
  {
   "cell_type": "code",
   "execution_count": null,
   "metadata": {},
   "outputs": [],
   "source": [
    "%%bash\n",
    "elm repl\n",
    "\n",
    "min : ???\n",
    "min x y = ???\n",
    "\n",
    "min 2 4\n",
    "???"
   ]
  },
  {
   "cell_type": "markdown",
   "metadata": {},
   "source": [
    "2. maak een expressie met behulp van `map` om uit een lijst getallen de lijst met voorafgaande getallen te maken, bijvoorbeeld `[1,2,3]` => `0,1,2`."
   ]
  },
  {
   "cell_type": "code",
   "execution_count": null,
   "metadata": {},
   "outputs": [],
   "source": [
    "%%bash\n",
    "elm repl\n",
    "\n",
    "import List\n",
    "\n",
    "...\n",
    "\n",
    "List.map ..."
   ]
  },
  {
   "cell_type": "markdown",
   "metadata": {},
   "source": [
    "3. de operator \"+\" kun je als functie gebruiken door deze tussen haakjes te schrijven: `(+) a b = a + b`. Gebruik dit om de functie `succ` te definiëren die voor de parameter het volgende getal geeft (succ 3 = 4). Kun je `succ` definiëren zonder parameters links van de `=`? (*Opmerking*: bovenstaande regel voor `(+)` kun je voor elke operator gebruiken, dus bijvoorbeeld ook voor `(::)`.)"
   ]
  },
  {
   "cell_type": "code",
   "execution_count": null,
   "metadata": {},
   "outputs": [],
   "source": [
    "%%bash\n",
    "elm repl\n",
    "\n",
    "succ : ???\n",
    "succ = ??? met ...(+)...\n",
    "\n",
    "succ 3\n",
    "succ (succ 3)"
   ]
  },
  {
   "cell_type": "markdown",
   "metadata": {},
   "source": [
    "4. ga na wat het effect is van `foldr (::) [] [1,2,3,4]`. Verklaar dit met de specificatie van `foldr`: `foldr f e [a,b,...,z]` = `a f' (b f' ... (z f' e))` waarin `f'` de infix-versie is van de functie `f` (ofwel: `f a b = a f' b`.)"
   ]
  },
  {
   "cell_type": "code",
   "execution_count": null,
   "metadata": {},
   "outputs": [],
   "source": [
    "%%bash\n",
    "elm repl\n",
    "\n",
    "import List exposing (..)\n",
    "\n",
    "foldr ..."
   ]
  },
  {
   "cell_type": "markdown",
   "metadata": {},
   "source": [
    "5. ga na wat het effect is van `foldl (::) [] [1,2,3,4]`. Verklaar dit met de specificatie van `foldl`: `foldl f e [a,b,...,z]` = `(((e f' a) f' b)...) f' z` waarin `f'` de *omgekeerde* infix-versie is van de functie `f` (ofwel: `f a b = b f' a`.)"
   ]
  },
  {
   "cell_type": "code",
   "execution_count": null,
   "metadata": {},
   "outputs": [],
   "source": [
    "%%bash\n",
    "elm repl\n",
    "\n",
    "import List exposing (..)\n",
    "\n",
    "foldl ..."
   ]
  }
 ],
 "metadata": {
  "kernelspec": {
   "display_name": "Python 3",
   "language": "python",
   "name": "python3"
  },
  "language_info": {
   "codemirror_mode": {
    "name": "ipython",
    "version": 3
   },
   "file_extension": ".py",
   "mimetype": "text/x-python",
   "name": "python",
   "nbconvert_exporter": "python",
   "pygments_lexer": "ipython3",
   "version": "3.7.9"
  }
 },
 "nbformat": 4,
 "nbformat_minor": 4
}