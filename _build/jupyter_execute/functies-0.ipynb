{
 "cells": [
  {
   "cell_type": "markdown",
   "id": "11ffe322-b9e2-4b91-a398-74bd4e89651c",
   "metadata": {},
   "source": [
    "# Elm REPL - voorbeelden"
   ]
  },
  {
   "cell_type": "markdown",
   "id": "41e0b6e3-6938-412d-b415-15a8625c19c0",
   "metadata": {},
   "source": [
    "In dit hoofdstuk gebruiken we Elm REPL: een Elm interpretator die interactief regels van de invoer verwerkt. REPL staat voor \"Read-Eval-Print-Loop.\n",
    "\n",
    "Je kunt in een cel je Elm-invoer geven, in de vorm van een definitie of expressie. Elm rekent deze uit, en geeft het resultaat daaronder. Bij het resultaat zie je niet alleen de waarde, maar ook het type van die waarde. Voorbeeld: (je kunt dit zelf aanpassen, en de cel opnieuw uitvoeren)"
   ]
  },
  {
   "cell_type": "code",
   "execution_count": 1,
   "id": "cd55647b-ed4c-4db8-9f0d-23648d48c057",
   "metadata": {},
   "outputs": [
    {
     "name": "stdout",
     "output_type": "stream",
     "text": [
      "\u001b[95m7\u001b[0m\u001b[90m : number\u001b[0m\r\n"
     ]
    }
   ],
   "source": [
    "3 + 4"
   ]
  },
  {
   "cell_type": "markdown",
   "id": "904e4fc1-8fb3-4c0d-85e4-b5946ac3a7a0",
   "metadata": {},
   "source": [
    "Een definitie heeft de vorm `naam = waarde`. Je kunt dan in de volgende Elm-uitdrukkingen die naam gebruiken: deze staat dan voor de betreffende waarde. Voorbeeld:"
   ]
  },
  {
   "cell_type": "code",
   "execution_count": 2,
   "id": "75150193-8076-40ab-ad3f-ef050a632ccd",
   "metadata": {},
   "outputs": [
    {
     "name": "stdout",
     "output_type": "stream",
     "text": [
      "\u001b[95m13\u001b[0m\u001b[90m : number\u001b[0m\r\n"
     ]
    }
   ],
   "source": [
    "a = 13"
   ]
  },
  {
   "cell_type": "code",
   "execution_count": 3,
   "id": "3310205b-1eec-4463-ae2f-c6f859be89e0",
   "metadata": {},
   "outputs": [
    {
     "name": "stdout",
     "output_type": "stream",
     "text": [
      "\u001b[95m26\u001b[0m\u001b[90m : number\u001b[0m\r\n"
     ]
    }
   ],
   "source": [
    "2 * a"
   ]
  },
  {
   "cell_type": "markdown",
   "id": "121d16a9-ec1d-4ffc-b401-868c1b2f5a6a",
   "metadata": {},
   "source": [
    "Op deze manier kun je namen definiëren voor getalwaarden, voor string-waarden, voor boolean-waarden:"
   ]
  },
  {
   "cell_type": "code",
   "execution_count": 4,
   "id": "c590e644-555c-4c04-b647-79a150c0ac61",
   "metadata": {},
   "outputs": [
    {
     "name": "stdout",
     "output_type": "stream",
     "text": [
      "\u001b[93m\"Hello world\"\u001b[0m\u001b[90m : String\u001b[0m\r\n",
      "\u001b[96mTrue\u001b[0m\u001b[90m : Bool\u001b[0m\r\n"
     ]
    }
   ],
   "source": [
    "b = \"Hello world\"\n",
    "c = True"
   ]
  },
  {
   "cell_type": "code",
   "execution_count": 5,
   "id": "18e2a966-35ea-4627-a807-9380c84a36ff",
   "metadata": {},
   "outputs": [
    {
     "name": "stdout",
     "output_type": "stream",
     "text": [
      "\u001b[93m\"Hello world\"\u001b[0m\u001b[90m : String\u001b[0m\r\n"
     ]
    }
   ],
   "source": [
    "if c then b else \"Hi\""
   ]
  },
  {
   "cell_type": "markdown",
   "id": "f8163d63-0600-475a-a777-e54699f4619a",
   "metadata": {},
   "source": [
    "In een dergelijke if-expressie moet je zowel een `then` als een `else`-tak geven; en de resultaten van beide takken moeten van hetzelfde type zijn. Als dat niet het geval is krijg je een foutmelding:"
   ]
  },
  {
   "cell_type": "code",
   "execution_count": 6,
   "id": "8ca85c49-eb6e-4ebf-8df1-0e8422c1df61",
   "metadata": {},
   "outputs": [
    {
     "name": "stdout",
     "output_type": "stream",
     "text": [
      "\u001b[36m-- TYPE MISMATCH ---------------------------------------------------------- REPL\u001b[0m\r\n",
      "\r\n",
      "The 2nd branch of this `if` does not match all the previous branches:\r\n",
      "\r\n",
      "6|   if c then a else b\r\n",
      "                      \u001b[91m^\u001b[0m\r\n",
      "This `b` value is a:\r\n",
      "\r\n",
      "    \u001b[33mString\u001b[0m\r\n",
      "\r\n",
      "But all the previous branches result in:\r\n",
      "\r\n",
      "    \u001b[33mnumber\u001b[0m\r\n",
      "\r\n",
      "\u001b[4mHint\u001b[0m: All branches in an `if` must produce the same type of values. This way, no\r\n",
      "matter which branch we take, the result is always a consistent shape. Read\r\n",
      "<https://elm-lang.org/0.19.1/custom-types> to learn how to “mix” types.\r\n",
      "\r\n",
      "\u001b[4mHint\u001b[0m: Try using \u001b[92mString.toInt\u001b[0m to convert it to an integer?\r\n",
      "\r\n"
     ]
    }
   ],
   "source": [
    "if c then a else b"
   ]
  },
  {
   "cell_type": "markdown",
   "id": "39823c77-bc5c-44a6-83ac-f475b738f645",
   "metadata": {},
   "source": [
    "## Functie-definities\n",
    "\n",
    "Een functie-definitie volgt hetzelfde patroon: `naam = waarde`. Het verschil is dat een functie gewoonlijk 1 of meer parameters heeft."
   ]
  },
  {
   "cell_type": "code",
   "execution_count": 7,
   "id": "e4c7d00c-6c0a-47a9-867e-05e1cf0deada",
   "metadata": {},
   "outputs": [
    {
     "name": "stdout",
     "output_type": "stream",
     "text": [
      "\u001b[36m<function>\u001b[0m\u001b[90m : number -> number\u001b[0m\r\n"
     ]
    }
   ],
   "source": [
    "succ x = x + 1"
   ]
  },
  {
   "cell_type": "markdown",
   "id": "4c71bde5-0fd9-44c0-a57f-975eb0793503",
   "metadata": {},
   "source": [
    "Zoals je ziet geeft Elm REPL ook in dit geval het type van het resultaat aan: een functie `number -> number`. De waarde zelf, een functiewaarde, kan niet getoond worden."
   ]
  },
  {
   "cell_type": "markdown",
   "id": "d0f81083-3be2-400c-9054-bcc144d45555",
   "metadata": {},
   "source": [
    "### Functie-typering\n",
    "\n",
    "Het is bij een functie-definitie gebruikelijk om het type van de functie expliciet te vermelden. Dit type helpt de lezer bij het begrijpen van de functiedefinitie. En het helpt de Elm interpreter om typeringsfouten in een vroeg stadium te ontdekken: dit geeft betere foutmeldingen. Bovenstaande functie wordt dan bijvoorbeeld:"
   ]
  },
  {
   "cell_type": "code",
   "execution_count": 8,
   "id": "7c0a4f40-894b-4636-8357-c4486f1ed025",
   "metadata": {},
   "outputs": [
    {
     "name": "stdout",
     "output_type": "stream",
     "text": [
      "\u001b[36m<function>\u001b[0m\u001b[90m : Int -> Int\u001b[0m\r\n"
     ]
    }
   ],
   "source": [
    "succ: Int -> Int\n",
    "succ x = x + 1"
   ]
  },
  {
   "cell_type": "markdown",
   "id": "0669dc36-a6dc-4275-b243-5774f198c5d0",
   "metadata": {},
   "source": [
    "De aanroep van een functie bestaat uit de naam van de functie gevolgd door de actuele parameter, bijvoorbeeld `sqr 3`.\n",
    "\n",
    "Merk op dat in dit geval geen haakjes nodig zijn: haakjes worden alleen gebruikt om de volgorde van berekening (prioriteit) aan te geven, niet voor het aanduiden van een functie-aanroep. (Zoals in veel andere talen wel het geval is.)"
   ]
  },
  {
   "cell_type": "code",
   "execution_count": 9,
   "id": "978232f6-db30-43ca-a43c-8f693eefb0b8",
   "metadata": {},
   "outputs": [
    {
     "name": "stdout",
     "output_type": "stream",
     "text": [
      "\u001b[95m14\u001b[0m\u001b[90m : Int\u001b[0m\r\n"
     ]
    }
   ],
   "source": [
    "succ a"
   ]
  },
  {
   "cell_type": "code",
   "execution_count": 10,
   "id": "c171a20d-8389-4f69-ae59-b72dcb923b03",
   "metadata": {},
   "outputs": [
    {
     "name": "stdout",
     "output_type": "stream",
     "text": [
      "\u001b[36m<function>\u001b[0m\u001b[90m : Int -> Int\u001b[0m\r\n"
     ]
    }
   ],
   "source": [
    "sqr: Int -> Int\n",
    "sqr x = x * x"
   ]
  },
  {
   "cell_type": "code",
   "execution_count": 11,
   "id": "c11568d9-78c0-4323-82be-db6ee2bc1529",
   "metadata": {},
   "outputs": [
    {
     "name": "stdout",
     "output_type": "stream",
     "text": [
      "\u001b[95m16\u001b[0m\u001b[90m : Int\u001b[0m\r\n"
     ]
    }
   ],
   "source": [
    "sqr 4"
   ]
  },
  {
   "cell_type": "code",
   "execution_count": null,
   "id": "7a5f15e0-32a4-4dba-bb70-444fdfa7829e",
   "metadata": {},
   "outputs": [],
   "source": []
  }
 ],
 "metadata": {
  "kernelspec": {
   "display_name": "Elm Repl",
   "language": "elm",
   "name": "elmreplkernel"
  },
  "language_info": {
   "codemirror_mode": "elm",
   "file_extension": ".elm",
   "mimetype": "text/x-elm",
   "name": "elm"
  }
 },
 "nbformat": 4,
 "nbformat_minor": 5
}