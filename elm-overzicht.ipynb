{
 "cells": [
  {
   "cell_type": "markdown",
   "metadata": {},
   "source": [
    "# Elm overzicht"
   ]
  },
  {
   "cell_type": "markdown",
   "metadata": {},
   "source": [
    "In dit hoofdstuk geven we een overzicht over de programmeertaal Elm.\n",
    "Dit is bedoeld om een eerste indruk te krijgen. Het is niet nodig om alles te begrijpen: in de volgende hoofdstukken komen deze onderdelen uitgebreid aan bod."
   ]
  },
  {
   "cell_type": "markdown",
   "metadata": {},
   "source": [
    "## Pure functionele taal\n",
    "\n",
    "Elm is een \"pure\" functionele programmeertaal: er zijn geen variabelen en er is geen toekenning (assignment). Een functie-aanroep heeft dan geen side-effect.\n",
    "\n",
    "Eén van de belangrijke gevolgen is dat een functie-aanroep met eenzelfde argument dan altijd hetzelfde resultaat oplevert,\n",
    "net als in de Wiskunde.\n",
    "Dit noemen we ook wel *referential transparency* (https://en.wikipedia.org/wiki/Referential_transparency).\n",
    "Een ander voorbeeld van een pure functionele taal is Haskell. In Haskell is deze \"pure\" eigenschap de basis voor *lazy evaluation*: als een functie-aanroep altijd hetzelfde resultaat oplevert, dan hoef je deze pas uit te rekenen als je het resultaat nodig hebt.\n",
    "\n",
    "Niet alle functionele talen zijn \"puur\". De oudste functionele programmeertaal, LISP, gebruikt variabelen en toekenning."
   ]
  },
  {
   "cell_type": "markdown",
   "metadata": {},
   "source": [
    "## Statische typering\n",
    "\n",
    "Elm heeft *statische typering*: van elke waarde kun je het type bepalen uit de programmatekst, dit is onafhankelijk van de uitvoering van het programma. De Elm-compiler controleert of alle waarden consistent volgens hun type gebruikt worden: elke type-inconsistentie resulteert in een foutmelding.\n",
    "\n",
    "In de praktijk betekent dit dat de kans op runtime-foutmeldingen aanzienlijk afneemt.\n",
    "\n",
    "Niet alle functionele talen hebben statische typering. De waarden in LISP zijn dynamisch getypeerd.\n",
    "\n",
    "Statische typering vind je niet alleen bij functionele programmeertalen: talen als Pascal en Java (en Rust) zijn statisch getypeerd. \n",
    "\n",
    "Haskell is een ander voorbeeld van een functionele programmeertaal met statische typering, waarbij de typering veel mogelijkheden biedt voor abstractie."
   ]
  },
  {
   "cell_type": "markdown",
   "metadata": {},
   "source": [
    "## Commentaar\n"
   ]
  },
  {
   "cell_type": "markdown",
   "metadata": {},
   "source": [
    "## Elementaire data\n",
    "\n",
    "* Int\n",
    "* Float\n",
    "* Bool\n",
    "\n",
    "(String?)"
   ]
  },
  {
   "cell_type": "markdown",
   "metadata": {},
   "source": [
    "## Samengestelde data\n",
    "\n",
    "* List\n",
    "* tupel\n",
    "* record"
   ]
  },
  {
   "cell_type": "markdown",
   "metadata": {},
   "source": [
    "## Functies\n",
    "\n",
    "* functie-definitie\n",
    "    * anonieme functie-waarden\n",
    "* functie-aanroep\n",
    "* functie als resultaat\n",
    "* functie als parameter"
   ]
  },
  {
   "cell_type": "markdown",
   "metadata": {},
   "source": [
    "### Functie-definitie"
   ]
  },
  {
   "cell_type": "markdown",
   "metadata": {},
   "source": [
    "### Functie-aanroep"
   ]
  },
  {
   "cell_type": "markdown",
   "metadata": {},
   "source": [
    "### Functie als resultaat"
   ]
  },
  {
   "cell_type": "markdown",
   "metadata": {},
   "source": [
    "### Functie als parameter"
   ]
  },
  {
   "cell_type": "markdown",
   "metadata": {},
   "source": [
    "## Elm libraries"
   ]
  },
  {
   "cell_type": "markdown",
   "metadata": {},
   "source": [
    "## De Elm-architectuur\n",
    "\n",
    "* interactie in de browser"
   ]
  }
 ],
 "metadata": {
  "kernelspec": {
   "display_name": "Elm",
   "language": "elm",
   "name": "elm"
  },
  "language_info": {
   "codemirror_mode": "elm",
   "file_extension": ".elm",
   "mimetype": "text/x-elm",
   "name": "elm"
  }
 },
 "nbformat": 4,
 "nbformat_minor": 4
}
