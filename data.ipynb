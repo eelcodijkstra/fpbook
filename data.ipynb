{
 "cells": [
  {
   "cell_type": "markdown",
   "metadata": {},
   "source": [
    "# data\n",
    "\n",
    "* basistypes: Int, Char, Boolean, Float, String\n",
    "* samenstelling: List (array?); NB: uniform wat waarden betreft\n",
    "* samenstelling: Record (\"Cartesisch product\"); NB: hoeft niet uniform te zijn wat waarden betreft.\n",
    "* samenstelling: user-defined data (discriminated union)"
   ]
  },
  {
   "cell_type": "markdown",
   "metadata": {},
   "source": [
    "Syntax: [https://elm-lang.org/docs/syntax](https://elm-lang.org/docs/syntax)"
   ]
  },
  {
   "cell_type": "markdown",
   "metadata": {},
   "source": [
    "## records\n",
    "\n",
    "```\n",
    "-- create records\n",
    "origin = { x = 0, y = 0 }\n",
    "point = { x = 3, y = 4 }\n",
    "\n",
    "-- access fields\n",
    "origin.x == 0\n",
    "point.x == 3\n",
    "\n",
    "-- field access function\n",
    "List.map .x [ origin, point ] == [ 0, 3 ]\n",
    "\n",
    "-- update a field\n",
    "{ point | x = 6 } == { x = 6, y = 4 }\n",
    "\n",
    "-- update many fields\n",
    "{ point | x = point.x + 1, y = point.y + 1 }\n",
    "```"
   ]
  },
  {
   "cell_type": "markdown",
   "metadata": {},
   "source": [
    "Custom types"
   ]
  },
  {
   "cell_type": "markdown",
   "metadata": {},
   "source": [
    "```\n",
    "type User\n",
    "  = Regular String Int\n",
    "  | Visitor String\n",
    "```"
   ]
  },
  {
   "cell_type": "markdown",
   "metadata": {},
   "source": [
    "**OPMERKING** Ik begrijp nog niet helemaal waarom dit een \"custom type\" genoemd wordt, en bijv. een record niet.\n",
    "\n",
    "In de terminologie van Hoare is dit een \"disjoint union\" type; waarbij een record een Cartesisch product is.\n",
    "\n",
    "```\n",
    "type alias Point = { x:Float, y:Float }\n",
    "```\n",
    "\n",
    "Je kunt, zonder een expliciet type te definiëren, een waarde maken als een Cartesisch product: `{x:12, y:\"hi\"}`. Deze waarde heeft (impliciet) een type. Door middel van een type-alias kun je dat type een naam geven.\n",
    "(Type-gelijkheid is altijd gebaseerd op de structuur, niet op de naam. Dat heeft als voordeel dat je waarden kunt maken zonder dat je daarvoor een speciale constructor-functie hoeft te definiëren.)\n",
    "\n",
    "Voor \"disjoint union\" is er niet zo'n constructie mogelijk, omdat je de \"tags\" voor de verschillende varianten eerst moet definiëren.\n"
   ]
  },
  {
   "cell_type": "code",
   "execution_count": null,
   "metadata": {},
   "outputs": [],
   "source": []
  }
 ],
 "metadata": {
  "kernelspec": {
   "display_name": "Elm",
   "language": "elm",
   "name": "elm"
  },
  "language_info": {
   "codemirror_mode": "elm",
   "file_extension": ".elm",
   "mimetype": "text/x-elm",
   "name": "elm"
  }
 },
 "nbformat": 4,
 "nbformat_minor": 4
}
