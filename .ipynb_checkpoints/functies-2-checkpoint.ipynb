{
 "cells": [
  {
   "cell_type": "markdown",
   "metadata": {},
   "source": [
    "# Functies (2)"
   ]
  },
  {
   "cell_type": "code",
   "execution_count": null,
   "metadata": {},
   "outputs": [],
   "source": []
  },
  {
   "cell_type": "markdown",
   "metadata": {
    "slideshow": {
     "slide_type": "slide"
    }
   },
   "source": [
    "## definitie van map\n",
    "\n",
    "```elm\n",
    "map : (a -> b) -> List a -> List b\n",
    "map f lst =\n",
    "  case lst of\n",
    "    (x :: xs) ->\n",
    "      (f x) :: (map f xs)\n",
    "      \n",
    "    [] ->\n",
    "      []\n",
    "```      "
   ]
  },
  {
   "cell_type": "markdown",
   "metadata": {
    "slideshow": {
     "slide_type": "slide"
    }
   },
   "source": [
    "## definitie van foldr\n",
    "\n",
    "```elm\n",
    "foldr : (a -> b -> b) -> b -> List a -> b\n",
    "foldr f e lst =\n",
    "  case lst of\n",
    "    (x :: xs) ->\n",
    "      f x (foldr f xs)\n",
    "      \n",
    "    [] ->\n",
    "      e\n",
    "```"
   ]
  },
  {
   "cell_type": "code",
   "execution_count": null,
   "metadata": {
    "slideshow": {
     "slide_type": "slide"
    }
   },
   "outputs": [],
   "source": [
    "import Html exposing (div, text, Html)\n",
    "import List exposing (range, repeat, member, length, reverse, filter)\n",
    "import Debug exposing (toString)\n",
    "\n",
    "printList : List a -> Html msg\n",
    "printList lst =\n",
    "  div [] [text (Debug.toString lst)]\n",
    "  \n",
    "printBool : Bool -> Html msg\n",
    "printBool b =\n",
    "  div [] [text (Debug.toString b)]\n",
    "  \n",
    "printInt : Int -> Html msg\n",
    "printInt x =\n",
    "  div [] [text (Debug.toString x)]  "
   ]
  },
  {
   "cell_type": "code",
   "execution_count": null,
   "metadata": {
    "slideshow": {
     "slide_type": "subslide"
    }
   },
   "outputs": [],
   "source": [
    "map : (a -> b) -> List a -> List b\n",
    "map      f        lst     =\n",
    "  case lst of\n",
    "    (x :: xs) ->\n",
    "      (f x) :: (map f xs)\n",
    "\n",
    "    [] ->\n",
    "      []\n",
    "\n",
    "foldr : (a -> b -> b) -> b -> List a -> b\n",
    "foldr        f           e    lst     =\n",
    "  case lst of\n",
    "    (x :: xs) ->\n",
    "      f x (foldr f e xs)\n",
    "\n",
    "    [] ->\n",
    "      e "
   ]
  },
  {
   "cell_type": "code",
   "execution_count": null,
   "metadata": {
    "slideshow": {
     "slide_type": "subslide"
    }
   },
   "outputs": [],
   "source": [
    "double x = x + x\n",
    "isEven x = modBy 2 x == 0 -- even: rest na deling door 2 is 0\n",
    "firstprimes = [2,3,5,7,11]\n",
    "\n",
    "main =\n",
    "  div [] \n",
    "  [ printList ( map double firstprimes )\n",
    "  , printList ( map isEven (range 1 10) )\n",
    "  , printList ( filter isEven (range 1 10) )\n",
    "  , printInt  ( foldr (+) 0 (repeat 10 3) )\n",
    "  , printInt  ( foldr (*) 1 (range 1 10) )\n",
    "  ]\n",
    "-- compile-code"
   ]
  },
  {
   "cell_type": "markdown",
   "metadata": {
    "slideshow": {
     "slide_type": "slide"
    }
   },
   "source": [
    "## Samenvatting\n",
    "\n",
    "* `map`, `foldr` en `filter` zijn *gewone Elm-functies*\n",
    "* een lijst-functie volgt de (recursieve) structuur van de lijst\n",
    "\n",
    "Volgende stap: bomen en functies op bomen."
   ]
  },
  {
   "cell_type": "code",
   "execution_count": null,
   "metadata": {},
   "outputs": [],
   "source": [
    "import Html exposing (div, text, Html)\n",
    "import List exposing (range, repeat, member, length, reverse, filter)\n",
    "import Debug exposing (toString)\n",
    "\n",
    "printList : List a -> Html msg\n",
    "printList lst =\n",
    "  div [] [text (Debug.toString lst)]\n",
    "  \n",
    "printBool : Bool -> Html msg\n",
    "printBool b =\n",
    "  div [] [text (Debug.toString b)]\n",
    "  \n",
    "printInt : Int -> Html msg\n",
    "printInt x =\n",
    "  div [] [text (Debug.toString x)] \n",
    "\n",
    "map : (a -> b) -> List a -> List b\n",
    "map f lst =\n",
    "  case lst of\n",
    "    (x :: xs) ->\n",
    "      (f x) :: (map f xs)\n",
    "\n",
    "    [] ->\n",
    "      []\n",
    "\n",
    "foldr : (a -> b -> b) -> b -> List a -> b\n",
    "foldr f e lst =\n",
    "  case lst of\n",
    "    (x :: xs) ->\n",
    "      f x (foldr f e xs)\n",
    "\n",
    "    [] ->\n",
    "      e \n",
    "\n",
    "double x = x + x\n",
    "isEven x = modBy 2 x == 0 -- even: rest na deling door 2 is 0\n",
    "firstprimes = [2,3,5,7,11]\n",
    "\n",
    "main =\n",
    "  div [] \n",
    "  [ printList ( map double firstprimes )\n",
    "  , printList ( map isEven (range 1 10) )\n",
    "  , printList ( filter isEven (range 1 10) )\n",
    "  , printInt  ( foldr (+) 0 (repeat 10 3) )\n",
    "  , printInt  ( foldr (*) 1 (range 1 10) )\n",
    "  ]\n",
    "-- compile-code"
   ]
  },
  {
   "cell_type": "markdown",
   "metadata": {
    "slideshow": {
     "slide_type": "slide"
    }
   },
   "source": [
    "**Opdracht**\n",
    "\n",
    "* definieer de functie `filter f lst` voor het filteren van een lijst met een Bool-functie.\n",
    "* demonstreer deze functie in het bovenstaande programma."
   ]
  },
  {
   "cell_type": "markdown",
   "metadata": {
    "slideshow": {
     "slide_type": "slide"
    }
   },
   "source": [
    "**Opdracht**\n",
    "\n",
    "* definieer de functie `length : (List a) -> Int` voor het bepalen van het aantal elementen in een lijst\n",
    "    * met behulp van `map`;\n",
    "    * uitgeschreven, zoals in het `sum`-voorbeeld\n",
    "* definieer de functie `range : Int -> Int -> List Int` voor het maken van een lijst van opeenvolgende gehele getallen.\n",
    "* definieer de functie `repeat : Int -> a -> List a` voor het maken van een lijst met identieke elementen."
   ]
  },
  {
   "cell_type": "markdown",
   "metadata": {
    "slideshow": {
     "slide_type": "slide"
    }
   },
   "source": [
    "**Opdracht**\n",
    "\n",
    "* schrijf de berekening `map sqr [3,5]` uit, met `sqr x = x * x`.\n",
    "* schrijf de berekening `foldr (+) 0 [3,5]` uit, met `(+) x y = x + y`\n",
    "* schrijf de berekening `foldr (::) [] [3,5]` uit, met `(::) x xs = x :: xs`."
   ]
  },
  {
   "cell_type": "markdown",
   "metadata": {
    "slideshow": {
     "slide_type": "slide"
    }
   },
   "source": [
    "## Een andere variatie: foldl\n",
    "\n",
    "`sum [1,2,3]` als ((0 + 1) + 2) + 3 of eigenlijk 3 + (2 + (1 + 0)))\n",
    "\n",
    "\n",
    "```elm\n",
    "sum lst =\n",
    "  sum1 0 lst\n",
    "  \n",
    "sum1 acc lst =   -- acc is \"accumulator\" of partial result\n",
    "  case lst of\n",
    "    (x :: xs) ->\n",
    "      sum1 (x + acc) xs\n",
    "      \n",
    "    [] ->\n",
    "      acc -- final result\n",
    "```"
   ]
  },
  {
   "cell_type": "markdown",
   "metadata": {
    "slideshow": {
     "slide_type": "slide"
    }
   },
   "source": [
    "```\n",
    "foldl : (a -> b -> b) -> b -> List a -> b \n",
    "foldl f acc lst =\n",
    "  case lst of\n",
    "    (x :: xs) ->\n",
    "      foldl f (f x acc) xs\n",
    "      \n",
    "    [] ->\n",
    "      acc\n",
    "```      "
   ]
  },
  {
   "cell_type": "markdown",
   "metadata": {},
   "source": [
    "**Opdracht**\n",
    "\n",
    "* Schrijf de berekening `foldl (+) 0 [3,5]` uit, met `(+) x y = x + y`\n",
    "* Ga na wat het resultaat is van `foldl (::) [] [3,5]`, met `(::) x xs = x :: xs`\n",
    "* Schrijf deze berekening uit."
   ]
  },
  {
   "cell_type": "code",
   "execution_count": null,
   "metadata": {},
   "outputs": [],
   "source": [
    "import Html exposing (div, text, Html)\n",
    "import List exposing (range, repeat, member, length, reverse, filter)\n",
    "import Debug exposing (toString)\n",
    "\n",
    "printList : List a -> Html msg\n",
    "printList lst =\n",
    "  div [] [text (Debug.toString lst)]\n",
    "  \n",
    "printBool : Bool -> Html msg\n",
    "printBool b =\n",
    "  div [] [text (Debug.toString b)]\n",
    "  \n",
    "printInt : Int -> Html msg\n",
    "printInt x =\n",
    "  div [] [text (Debug.toString x)] \n",
    "\n",
    "map : (a -> b) -> List a -> List b\n",
    "map f lst =\n",
    "  case lst of\n",
    "    (x :: xs) ->\n",
    "      (f x) :: (map f xs)\n",
    "\n",
    "    [] ->\n",
    "      []\n",
    "\n",
    "foldr : (a -> b -> b) -> b -> List a -> b\n",
    "foldr f e lst =\n",
    "  case lst of\n",
    "    (x :: xs) ->\n",
    "      f x (foldr f e xs)\n",
    "\n",
    "    [] ->\n",
    "      e\n",
    "  \n",
    "foldl : (a -> b -> b) -> b -> List a -> b  \n",
    "foldl f acc lst =\n",
    "  case lst of\n",
    "    (x :: xs) ->\n",
    "      foldl f (f x acc) xs\n",
    "      \n",
    "    [] ->\n",
    "      acc\n",
    "\n",
    "double x = x + x\n",
    "isEven x = modBy 2 x == 0 -- even: rest na deling door 2 is 0\n",
    "firstprimes = [2,3,5,7,11]\n",
    "\n",
    "main =\n",
    "  div [] \n",
    "  [ printList ( map double firstprimes )\n",
    "  , printList ( map isEven (range 1 10) )\n",
    "  , printList ( filter isEven (range 1 10) )\n",
    "  , printInt  ( foldr (+) 0 (repeat 10 3) )\n",
    "  , printInt  ( foldr (*) 1 (range 1 10) )\n",
    "  , printInt  ( foldl (*) 1 (range 1 10) )\n",
    "  , printList ( foldr (::) [] [\"a\",\"b\",\"c\"] )\n",
    "  , printList ( foldl (::) [] [\"a\",\"b\",\"c\"] )  \n",
    "  ]\n",
    "-- compile-code"
   ]
  },
  {
   "cell_type": "code",
   "execution_count": null,
   "metadata": {},
   "outputs": [],
   "source": []
  },
  {
   "cell_type": "markdown",
   "metadata": {},
   "source": [
    "## Functie-compositie\n",
    "\n",
    "Met functie-compositie maak je een nieuwe functie uit twee bestaande functies.\n",
    "\n",
    "Voorbeeld: de functie `isOdd` kun je maken uit `isEven` en `not`. Elm heeft twee operatoren voor het samenstellen van functies:\n",
    "\n",
    "* `(f << g) x == f ( g x )` \n",
    "* `(g >> f) x == f ( g x )`\n",
    "\n",
    "De \"pijl\" geeft de richting aan van de data; je kunt `f << g` lezen als \"f na g\"."
   ]
  },
  {
   "cell_type": "code",
   "execution_count": 1,
   "metadata": {},
   "outputs": [],
   "source": [
    "isEven : Int -> Bool\n",
    "isEven x = modBy 2 x == 0\n",
    "\n",
    "isOdd : Int -> Bool\n",
    "isOdd = not << isEven\n",
    "\n",
    "evens = List.filter isEven (List.range 1 10)\n",
    "odds = List.filter isOdd (List.range 1 10)"
   ]
  }
 ],
 "metadata": {
  "kernelspec": {
   "display_name": "Elm",
   "language": "elm",
   "name": "elm"
  },
  "language_info": {
   "name": ""
  }
 },
 "nbformat": 4,
 "nbformat_minor": 4
}
